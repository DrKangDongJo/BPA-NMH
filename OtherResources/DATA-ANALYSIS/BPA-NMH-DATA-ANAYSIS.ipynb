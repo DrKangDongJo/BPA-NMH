{
 "cells": [
  {
   "cell_type": "code",
   "execution_count": 1,
   "id": "dffda2f3",
   "metadata": {},
   "outputs": [],
   "source": [
    "import numpy as np;\n",
    "import pandas as pd;\n",
    "import seaborn as sns;\n",
    "import matplotlib.pyplot as plt;\n",
    "\n",
    "import warnings\n",
    "warnings.filterwarnings('ignore')"
   ]
  },
  {
   "cell_type": "code",
   "execution_count": 2,
   "id": "316a56d6",
   "metadata": {},
   "outputs": [],
   "source": [
    "df = pd.read_csv('Building_Permits.csv', low_memory=False);"
   ]
  },
  {
   "cell_type": "code",
   "execution_count": 3,
   "id": "521e2fb1",
   "metadata": {},
   "outputs": [
    {
     "data": {
      "text/html": [
       "<div>\n",
       "<style scoped>\n",
       "    .dataframe tbody tr th:only-of-type {\n",
       "        vertical-align: middle;\n",
       "    }\n",
       "\n",
       "    .dataframe tbody tr th {\n",
       "        vertical-align: top;\n",
       "    }\n",
       "\n",
       "    .dataframe thead th {\n",
       "        text-align: right;\n",
       "    }\n",
       "</style>\n",
       "<table border=\"1\" class=\"dataframe\">\n",
       "  <thead>\n",
       "    <tr style=\"text-align: right;\">\n",
       "      <th></th>\n",
       "      <th>Permit Number</th>\n",
       "      <th>Permit Type</th>\n",
       "      <th>Permit Type Definition</th>\n",
       "      <th>Permit Creation Date</th>\n",
       "      <th>Block</th>\n",
       "      <th>Lot</th>\n",
       "      <th>Street Number</th>\n",
       "      <th>Street Number Suffix</th>\n",
       "      <th>Street Name</th>\n",
       "      <th>Street Suffix</th>\n",
       "      <th>...</th>\n",
       "      <th>Existing Construction Type</th>\n",
       "      <th>Existing Construction Type Description</th>\n",
       "      <th>Proposed Construction Type</th>\n",
       "      <th>Proposed Construction Type Description</th>\n",
       "      <th>Site Permit</th>\n",
       "      <th>Supervisor District</th>\n",
       "      <th>Neighborhoods - Analysis Boundaries</th>\n",
       "      <th>Zipcode</th>\n",
       "      <th>Location</th>\n",
       "      <th>Record ID</th>\n",
       "    </tr>\n",
       "  </thead>\n",
       "  <tbody>\n",
       "    <tr>\n",
       "      <th>0</th>\n",
       "      <td>201505065519</td>\n",
       "      <td>4</td>\n",
       "      <td>sign - erect</td>\n",
       "      <td>05/06/2015</td>\n",
       "      <td>0326</td>\n",
       "      <td>023</td>\n",
       "      <td>140</td>\n",
       "      <td>NaN</td>\n",
       "      <td>Ellis</td>\n",
       "      <td>St</td>\n",
       "      <td>...</td>\n",
       "      <td>3.0</td>\n",
       "      <td>constr type 3</td>\n",
       "      <td>NaN</td>\n",
       "      <td>NaN</td>\n",
       "      <td>NaN</td>\n",
       "      <td>3.0</td>\n",
       "      <td>Tenderloin</td>\n",
       "      <td>94102.0</td>\n",
       "      <td>(37.785719256680785, -122.40852313194863)</td>\n",
       "      <td>1380611233945</td>\n",
       "    </tr>\n",
       "    <tr>\n",
       "      <th>1</th>\n",
       "      <td>201604195146</td>\n",
       "      <td>4</td>\n",
       "      <td>sign - erect</td>\n",
       "      <td>04/19/2016</td>\n",
       "      <td>0306</td>\n",
       "      <td>007</td>\n",
       "      <td>440</td>\n",
       "      <td>NaN</td>\n",
       "      <td>Geary</td>\n",
       "      <td>St</td>\n",
       "      <td>...</td>\n",
       "      <td>3.0</td>\n",
       "      <td>constr type 3</td>\n",
       "      <td>NaN</td>\n",
       "      <td>NaN</td>\n",
       "      <td>NaN</td>\n",
       "      <td>3.0</td>\n",
       "      <td>Tenderloin</td>\n",
       "      <td>94102.0</td>\n",
       "      <td>(37.78733980600732, -122.41063199757738)</td>\n",
       "      <td>1420164406718</td>\n",
       "    </tr>\n",
       "    <tr>\n",
       "      <th>2</th>\n",
       "      <td>201605278609</td>\n",
       "      <td>3</td>\n",
       "      <td>additions alterations or repairs</td>\n",
       "      <td>05/27/2016</td>\n",
       "      <td>0595</td>\n",
       "      <td>203</td>\n",
       "      <td>1647</td>\n",
       "      <td>NaN</td>\n",
       "      <td>Pacific</td>\n",
       "      <td>Av</td>\n",
       "      <td>...</td>\n",
       "      <td>1.0</td>\n",
       "      <td>constr type 1</td>\n",
       "      <td>1.0</td>\n",
       "      <td>constr type 1</td>\n",
       "      <td>NaN</td>\n",
       "      <td>3.0</td>\n",
       "      <td>Russian Hill</td>\n",
       "      <td>94109.0</td>\n",
       "      <td>(37.7946573324287, -122.42232562979227)</td>\n",
       "      <td>1424856504716</td>\n",
       "    </tr>\n",
       "    <tr>\n",
       "      <th>3</th>\n",
       "      <td>201611072166</td>\n",
       "      <td>8</td>\n",
       "      <td>otc alterations permit</td>\n",
       "      <td>11/07/2016</td>\n",
       "      <td>0156</td>\n",
       "      <td>011</td>\n",
       "      <td>1230</td>\n",
       "      <td>NaN</td>\n",
       "      <td>Pacific</td>\n",
       "      <td>Av</td>\n",
       "      <td>...</td>\n",
       "      <td>5.0</td>\n",
       "      <td>wood frame (5)</td>\n",
       "      <td>5.0</td>\n",
       "      <td>wood frame (5)</td>\n",
       "      <td>NaN</td>\n",
       "      <td>3.0</td>\n",
       "      <td>Nob Hill</td>\n",
       "      <td>94109.0</td>\n",
       "      <td>(37.79595867909168, -122.41557405519474)</td>\n",
       "      <td>1443574295566</td>\n",
       "    </tr>\n",
       "    <tr>\n",
       "      <th>4</th>\n",
       "      <td>201611283529</td>\n",
       "      <td>6</td>\n",
       "      <td>demolitions</td>\n",
       "      <td>11/28/2016</td>\n",
       "      <td>0342</td>\n",
       "      <td>001</td>\n",
       "      <td>950</td>\n",
       "      <td>NaN</td>\n",
       "      <td>Market</td>\n",
       "      <td>St</td>\n",
       "      <td>...</td>\n",
       "      <td>3.0</td>\n",
       "      <td>constr type 3</td>\n",
       "      <td>NaN</td>\n",
       "      <td>NaN</td>\n",
       "      <td>NaN</td>\n",
       "      <td>6.0</td>\n",
       "      <td>Tenderloin</td>\n",
       "      <td>94102.0</td>\n",
       "      <td>(37.78315261897309, -122.40950883997789)</td>\n",
       "      <td>144548169992</td>\n",
       "    </tr>\n",
       "    <tr>\n",
       "      <th>5</th>\n",
       "      <td>201706149344</td>\n",
       "      <td>8</td>\n",
       "      <td>otc alterations permit</td>\n",
       "      <td>06/14/2017</td>\n",
       "      <td>4105</td>\n",
       "      <td>009</td>\n",
       "      <td>800</td>\n",
       "      <td>NaN</td>\n",
       "      <td>Indiana</td>\n",
       "      <td>St</td>\n",
       "      <td>...</td>\n",
       "      <td>1.0</td>\n",
       "      <td>constr type 1</td>\n",
       "      <td>1.0</td>\n",
       "      <td>constr type 1</td>\n",
       "      <td>NaN</td>\n",
       "      <td>10.0</td>\n",
       "      <td>Potrero Hill</td>\n",
       "      <td>94107.0</td>\n",
       "      <td>(37.75922331346539, -122.39170402628598)</td>\n",
       "      <td>1466911170855</td>\n",
       "    </tr>\n",
       "  </tbody>\n",
       "</table>\n",
       "<p>6 rows × 43 columns</p>\n",
       "</div>"
      ],
      "text/plain": [
       "  Permit Number  Permit Type            Permit Type Definition  \\\n",
       "0  201505065519            4                      sign - erect   \n",
       "1  201604195146            4                      sign - erect   \n",
       "2  201605278609            3  additions alterations or repairs   \n",
       "3  201611072166            8            otc alterations permit   \n",
       "4  201611283529            6                       demolitions   \n",
       "5  201706149344            8            otc alterations permit   \n",
       "\n",
       "  Permit Creation Date Block  Lot  Street Number Street Number Suffix  \\\n",
       "0           05/06/2015  0326  023            140                  NaN   \n",
       "1           04/19/2016  0306  007            440                  NaN   \n",
       "2           05/27/2016  0595  203           1647                  NaN   \n",
       "3           11/07/2016  0156  011           1230                  NaN   \n",
       "4           11/28/2016  0342  001            950                  NaN   \n",
       "5           06/14/2017  4105  009            800                  NaN   \n",
       "\n",
       "  Street Name Street Suffix  ...  Existing Construction Type  \\\n",
       "0       Ellis            St  ...                         3.0   \n",
       "1       Geary            St  ...                         3.0   \n",
       "2     Pacific            Av  ...                         1.0   \n",
       "3     Pacific            Av  ...                         5.0   \n",
       "4      Market            St  ...                         3.0   \n",
       "5     Indiana            St  ...                         1.0   \n",
       "\n",
       "  Existing Construction Type Description Proposed Construction Type  \\\n",
       "0                          constr type 3                        NaN   \n",
       "1                          constr type 3                        NaN   \n",
       "2                          constr type 1                        1.0   \n",
       "3                         wood frame (5)                        5.0   \n",
       "4                          constr type 3                        NaN   \n",
       "5                          constr type 1                        1.0   \n",
       "\n",
       "  Proposed Construction Type Description Site Permit Supervisor District  \\\n",
       "0                                    NaN         NaN                 3.0   \n",
       "1                                    NaN         NaN                 3.0   \n",
       "2                          constr type 1         NaN                 3.0   \n",
       "3                         wood frame (5)         NaN                 3.0   \n",
       "4                                    NaN         NaN                 6.0   \n",
       "5                          constr type 1         NaN                10.0   \n",
       "\n",
       "  Neighborhoods - Analysis Boundaries  Zipcode  \\\n",
       "0                          Tenderloin  94102.0   \n",
       "1                          Tenderloin  94102.0   \n",
       "2                        Russian Hill  94109.0   \n",
       "3                            Nob Hill  94109.0   \n",
       "4                          Tenderloin  94102.0   \n",
       "5                        Potrero Hill  94107.0   \n",
       "\n",
       "                                    Location      Record ID  \n",
       "0  (37.785719256680785, -122.40852313194863)  1380611233945  \n",
       "1   (37.78733980600732, -122.41063199757738)  1420164406718  \n",
       "2    (37.7946573324287, -122.42232562979227)  1424856504716  \n",
       "3   (37.79595867909168, -122.41557405519474)  1443574295566  \n",
       "4   (37.78315261897309, -122.40950883997789)   144548169992  \n",
       "5   (37.75922331346539, -122.39170402628598)  1466911170855  \n",
       "\n",
       "[6 rows x 43 columns]"
      ]
     },
     "execution_count": 3,
     "metadata": {},
     "output_type": "execute_result"
    }
   ],
   "source": [
    "df.head(6)"
   ]
  },
  {
   "cell_type": "code",
   "execution_count": 4,
   "id": "c6b7777c",
   "metadata": {},
   "outputs": [
    {
     "data": {
      "text/plain": [
       "(198900, 43)"
      ]
     },
     "execution_count": 4,
     "metadata": {},
     "output_type": "execute_result"
    }
   ],
   "source": [
    "df.shape"
   ]
  },
  {
   "cell_type": "code",
   "execution_count": 5,
   "id": "5742c9d8",
   "metadata": {},
   "outputs": [
    {
     "data": {
      "text/plain": [
       "Permit Number                                  0\n",
       "Permit Type                                    0\n",
       "Permit Type Definition                         0\n",
       "Permit Creation Date                           0\n",
       "Block                                          0\n",
       "Lot                                            0\n",
       "Street Number                                  0\n",
       "Street Number Suffix                      196684\n",
       "Street Name                                    0\n",
       "Street Suffix                               2768\n",
       "Unit                                      169421\n",
       "Unit Suffix                               196939\n",
       "Description                                  290\n",
       "Current Status                                 0\n",
       "Current Status Date                            0\n",
       "Filed Date                                     0\n",
       "Issued Date                                14940\n",
       "Completed Date                            101709\n",
       "First Construction Document Date           14946\n",
       "Structural Notification                   191978\n",
       "Number of Existing Stories                 42784\n",
       "Number of Proposed Stories                 42868\n",
       "Voluntary Soft-Story Retrofit             198865\n",
       "Fire Only Permit                          180073\n",
       "Permit Expiration Date                     51880\n",
       "Estimated Cost                             38066\n",
       "Revised Cost                                6066\n",
       "Existing Use                               41114\n",
       "Existing Units                             51538\n",
       "Proposed Use                               42439\n",
       "Proposed Units                             50911\n",
       "Plansets                                   37309\n",
       "TIDF Compliance                           198898\n",
       "Existing Construction Type                 43366\n",
       "Existing Construction Type Description     43366\n",
       "Proposed Construction Type                 43162\n",
       "Proposed Construction Type Description     43162\n",
       "Site Permit                               193541\n",
       "Supervisor District                         1717\n",
       "Neighborhoods - Analysis Boundaries         1725\n",
       "Zipcode                                     1716\n",
       "Location                                    1700\n",
       "Record ID                                      0\n",
       "dtype: int64"
      ]
     },
     "execution_count": 5,
     "metadata": {},
     "output_type": "execute_result"
    }
   ],
   "source": [
    "df.isna().sum()"
   ]
  },
  {
   "cell_type": "code",
   "execution_count": 6,
   "id": "2b3ee82e",
   "metadata": {},
   "outputs": [
    {
     "data": {
      "text/plain": [
       "Permit Number                              object\n",
       "Permit Type                                 int64\n",
       "Permit Type Definition                     object\n",
       "Permit Creation Date                       object\n",
       "Block                                      object\n",
       "Lot                                        object\n",
       "Street Number                               int64\n",
       "Street Number Suffix                       object\n",
       "Street Name                                object\n",
       "Street Suffix                              object\n",
       "Unit                                      float64\n",
       "Unit Suffix                                object\n",
       "Description                                object\n",
       "Current Status                             object\n",
       "Current Status Date                        object\n",
       "Filed Date                                 object\n",
       "Issued Date                                object\n",
       "Completed Date                             object\n",
       "First Construction Document Date           object\n",
       "Structural Notification                    object\n",
       "Number of Existing Stories                float64\n",
       "Number of Proposed Stories                float64\n",
       "Voluntary Soft-Story Retrofit              object\n",
       "Fire Only Permit                           object\n",
       "Permit Expiration Date                     object\n",
       "Estimated Cost                            float64\n",
       "Revised Cost                              float64\n",
       "Existing Use                               object\n",
       "Existing Units                            float64\n",
       "Proposed Use                               object\n",
       "Proposed Units                            float64\n",
       "Plansets                                  float64\n",
       "TIDF Compliance                            object\n",
       "Existing Construction Type                float64\n",
       "Existing Construction Type Description     object\n",
       "Proposed Construction Type                float64\n",
       "Proposed Construction Type Description     object\n",
       "Site Permit                                object\n",
       "Supervisor District                       float64\n",
       "Neighborhoods - Analysis Boundaries        object\n",
       "Zipcode                                   float64\n",
       "Location                                   object\n",
       "Record ID                                   int64\n",
       "dtype: object"
      ]
     },
     "execution_count": 6,
     "metadata": {},
     "output_type": "execute_result"
    }
   ],
   "source": [
    "df.dtypes"
   ]
  },
  {
   "cell_type": "code",
   "execution_count": 7,
   "id": "efaaa24b",
   "metadata": {},
   "outputs": [],
   "source": [
    "df.drop(['Permit Number', 'Street Number', 'Street Number Suffix', 'Street Suffix', \n",
    "        'Unit Suffix', 'Description', 'First Construction Document Date', 'Structural Notification', \n",
    "         'Voluntary Soft-Story Retrofit', 'Fire Only Permit', 'Existing Units', 'Proposed Units', \n",
    "         'Plansets', 'TIDF Compliance', 'Existing Construction Type Description', 'Site Permit', 'Neighborhoods - Analysis Boundaries',\n",
    "         'Proposed Construction Type Description', 'Zipcode', 'Location', 'Record ID', 'Unit', \n",
    "         'Supervisor District'], axis = 1, inplace=True)"
   ]
  },
  {
   "cell_type": "code",
   "execution_count": 8,
   "id": "dbbfbc2c",
   "metadata": {},
   "outputs": [
    {
     "data": {
      "text/plain": [
       "16528"
      ]
     },
     "execution_count": 8,
     "metadata": {},
     "output_type": "execute_result"
    }
   ],
   "source": [
    "df.duplicated().sum()"
   ]
  },
  {
   "cell_type": "code",
   "execution_count": 9,
   "id": "f12e1739",
   "metadata": {},
   "outputs": [],
   "source": [
    "df.drop_duplicates(inplace=True)"
   ]
  },
  {
   "cell_type": "code",
   "execution_count": 10,
   "id": "c9bc2b6e",
   "metadata": {},
   "outputs": [
    {
     "data": {
      "text/plain": [
       "(182372, 20)"
      ]
     },
     "execution_count": 10,
     "metadata": {},
     "output_type": "execute_result"
    }
   ],
   "source": [
    "df.shape"
   ]
  },
  {
   "cell_type": "code",
   "execution_count": 11,
   "id": "cdbc3937",
   "metadata": {},
   "outputs": [
    {
     "data": {
      "text/plain": [
       "Permit Type                       0\n",
       "Permit Type Definition            0\n",
       "Permit Creation Date              0\n",
       "Block                             0\n",
       "Lot                               0\n",
       "Street Name                       0\n",
       "Current Status                    0\n",
       "Current Status Date               0\n",
       "Filed Date                        0\n",
       "Issued Date                   13416\n",
       "Completed Date                93206\n",
       "Number of Existing Stories    39944\n",
       "Number of Proposed Stories    40017\n",
       "Permit Expiration Date        47998\n",
       "Estimated Cost                35667\n",
       "Revised Cost                   5347\n",
       "Existing Use                  38398\n",
       "Proposed Use                  39599\n",
       "Existing Construction Type    40492\n",
       "Proposed Construction Type    40295\n",
       "dtype: int64"
      ]
     },
     "execution_count": 11,
     "metadata": {},
     "output_type": "execute_result"
    }
   ],
   "source": [
    "df.isna().sum()"
   ]
  },
  {
   "cell_type": "code",
   "execution_count": 12,
   "id": "aff96fb7",
   "metadata": {},
   "outputs": [
    {
     "data": {
      "text/plain": [
       "Permit Type                     int64\n",
       "Permit Type Definition         object\n",
       "Permit Creation Date           object\n",
       "Block                          object\n",
       "Lot                            object\n",
       "Street Name                    object\n",
       "Current Status                 object\n",
       "Current Status Date            object\n",
       "Filed Date                     object\n",
       "Issued Date                    object\n",
       "Completed Date                 object\n",
       "Number of Existing Stories    float64\n",
       "Number of Proposed Stories    float64\n",
       "Permit Expiration Date         object\n",
       "Estimated Cost                float64\n",
       "Revised Cost                  float64\n",
       "Existing Use                   object\n",
       "Proposed Use                   object\n",
       "Existing Construction Type    float64\n",
       "Proposed Construction Type    float64\n",
       "dtype: object"
      ]
     },
     "execution_count": 12,
     "metadata": {},
     "output_type": "execute_result"
    }
   ],
   "source": [
    "df.dtypes"
   ]
  },
  {
   "cell_type": "code",
   "execution_count": 13,
   "id": "ba75542a",
   "metadata": {},
   "outputs": [],
   "source": [
    "df['Current Status Date'] = pd.to_datetime(df['Current Status Date'], infer_datetime_format=True)"
   ]
  },
  {
   "cell_type": "code",
   "execution_count": 14,
   "id": "d3eb0313",
   "metadata": {},
   "outputs": [],
   "source": [
    "df['Permit Creation Date'] = pd.to_datetime(df['Permit Creation Date'], infer_datetime_format=True)\n",
    "df['Filed Date'] = pd.to_datetime(df['Filed Date'], infer_datetime_format=True)\n",
    "df['Issued Date'] = pd.to_datetime(df['Issued Date'], infer_datetime_format=True)\n",
    "df['Completed Date'] = pd.to_datetime(df['Completed Date'], infer_datetime_format=True)\n",
    "df['Permit Expiration Date'] = pd.to_datetime(df['Permit Expiration Date'], infer_datetime_format=True)"
   ]
  },
  {
   "cell_type": "code",
   "execution_count": 15,
   "id": "e90e3676",
   "metadata": {},
   "outputs": [],
   "source": [
    "for col in df.columns:\n",
    "    if(df[col].dtypes == 'object'):\n",
    "        df[col] = df[col].astype('string')"
   ]
  },
  {
   "cell_type": "code",
   "execution_count": 16,
   "id": "fa807715",
   "metadata": {},
   "outputs": [],
   "source": [
    "df['Existing Construction Type'] = df['Existing Construction Type'].astype('string')"
   ]
  },
  {
   "cell_type": "code",
   "execution_count": 17,
   "id": "6cdda96b",
   "metadata": {},
   "outputs": [],
   "source": [
    "df['Proposed Construction Type'] = df['Proposed Construction Type'].astype('string')"
   ]
  },
  {
   "cell_type": "code",
   "execution_count": 18,
   "id": "51aa420b",
   "metadata": {},
   "outputs": [
    {
     "data": {
      "text/plain": [
       "Permit Type                            int64\n",
       "Permit Type Definition                string\n",
       "Permit Creation Date          datetime64[ns]\n",
       "Block                                 string\n",
       "Lot                                   string\n",
       "Street Name                           string\n",
       "Current Status                        string\n",
       "Current Status Date           datetime64[ns]\n",
       "Filed Date                    datetime64[ns]\n",
       "Issued Date                   datetime64[ns]\n",
       "Completed Date                datetime64[ns]\n",
       "Number of Existing Stories           float64\n",
       "Number of Proposed Stories           float64\n",
       "Permit Expiration Date        datetime64[ns]\n",
       "Estimated Cost                       float64\n",
       "Revised Cost                         float64\n",
       "Existing Use                          string\n",
       "Proposed Use                          string\n",
       "Existing Construction Type            string\n",
       "Proposed Construction Type            string\n",
       "dtype: object"
      ]
     },
     "execution_count": 18,
     "metadata": {},
     "output_type": "execute_result"
    }
   ],
   "source": [
    "df.dtypes"
   ]
  },
  {
   "cell_type": "code",
   "execution_count": 19,
   "id": "abf1bb37",
   "metadata": {},
   "outputs": [
    {
     "data": {
      "text/plain": [
       "Permit Type                       0\n",
       "Permit Type Definition            0\n",
       "Permit Creation Date              0\n",
       "Block                             0\n",
       "Lot                               0\n",
       "Street Name                       0\n",
       "Current Status                    0\n",
       "Current Status Date               0\n",
       "Filed Date                        0\n",
       "Issued Date                   13416\n",
       "Completed Date                93206\n",
       "Number of Existing Stories    39944\n",
       "Number of Proposed Stories    40017\n",
       "Permit Expiration Date        47998\n",
       "Estimated Cost                35667\n",
       "Revised Cost                   5347\n",
       "Existing Use                  38398\n",
       "Proposed Use                  39599\n",
       "Existing Construction Type    40492\n",
       "Proposed Construction Type    40295\n",
       "dtype: int64"
      ]
     },
     "execution_count": 19,
     "metadata": {},
     "output_type": "execute_result"
    }
   ],
   "source": [
    "df.isna().sum()"
   ]
  },
  {
   "cell_type": "code",
   "execution_count": 20,
   "id": "40f754cf",
   "metadata": {
    "scrolled": true
   },
   "outputs": [],
   "source": [
    "df['Issued Date'] = df['Issued Date'].fillna(method='pad');\n",
    "df['Completed Date'] = df['Completed Date'].fillna(method='bfill');\n",
    "df['Number of Existing Stories'] = df['Number of Existing Stories'].fillna(method='pad');\n",
    "df['Number of Proposed Stories'] = df['Number of Proposed Stories'].fillna(method='bfill');\n",
    "df['Permit Expiration Date'] = df['Permit Expiration Date'].fillna(method='pad');"
   ]
  },
  {
   "cell_type": "code",
   "execution_count": 21,
   "id": "02a35d78",
   "metadata": {},
   "outputs": [],
   "source": [
    "# df['Completed Date'] = df['Completed Date'].fillna(method='bfill');\n",
    "# df['Number of Proposed Stories'] = df['Number of Proposed Stories'].fillna(method='bfill');"
   ]
  },
  {
   "cell_type": "code",
   "execution_count": 22,
   "id": "5ae21d6d",
   "metadata": {},
   "outputs": [],
   "source": [
    "df['Existing Use'] = df['Existing Use'].fillna('N/A');\n",
    "df['Proposed Use'] = df['Proposed Use'].fillna('N/A');"
   ]
  },
  {
   "cell_type": "code",
   "execution_count": 23,
   "id": "194a9d92",
   "metadata": {},
   "outputs": [],
   "source": [
    "df['Existing Construction Type'] = df['Existing Construction Type'].fillna('N/A');\n",
    "df['Proposed Construction Type'] = df['Proposed Construction Type'].fillna('N/A');"
   ]
  },
  {
   "cell_type": "code",
   "execution_count": 24,
   "id": "c2ee1d07",
   "metadata": {},
   "outputs": [],
   "source": [
    "df['Estimated Cost'].fillna(df['Estimated Cost'].median(),inplace = True);\n",
    "df['Revised Cost'].fillna(df['Revised Cost'].median(),inplace = True);"
   ]
  },
  {
   "cell_type": "code",
   "execution_count": 25,
   "id": "af5bb4af",
   "metadata": {},
   "outputs": [
    {
     "data": {
      "text/plain": [
       "Permit Type                   0\n",
       "Permit Type Definition        0\n",
       "Permit Creation Date          0\n",
       "Block                         0\n",
       "Lot                           0\n",
       "Street Name                   0\n",
       "Current Status                0\n",
       "Current Status Date           0\n",
       "Filed Date                    0\n",
       "Issued Date                   0\n",
       "Completed Date                6\n",
       "Number of Existing Stories    0\n",
       "Number of Proposed Stories    3\n",
       "Permit Expiration Date        0\n",
       "Estimated Cost                0\n",
       "Revised Cost                  0\n",
       "Existing Use                  0\n",
       "Proposed Use                  0\n",
       "Existing Construction Type    0\n",
       "Proposed Construction Type    0\n",
       "dtype: int64"
      ]
     },
     "execution_count": 25,
     "metadata": {},
     "output_type": "execute_result"
    }
   ],
   "source": [
    "df.isna().sum()"
   ]
  },
  {
   "cell_type": "code",
   "execution_count": 26,
   "id": "6fc046e4",
   "metadata": {},
   "outputs": [
    {
     "data": {
      "text/plain": [
       "Permit Type                            int64\n",
       "Permit Type Definition                string\n",
       "Permit Creation Date          datetime64[ns]\n",
       "Block                                 string\n",
       "Lot                                   string\n",
       "Street Name                           string\n",
       "Current Status                        string\n",
       "Current Status Date           datetime64[ns]\n",
       "Filed Date                    datetime64[ns]\n",
       "Issued Date                   datetime64[ns]\n",
       "Completed Date                datetime64[ns]\n",
       "Number of Existing Stories           float64\n",
       "Number of Proposed Stories           float64\n",
       "Permit Expiration Date        datetime64[ns]\n",
       "Estimated Cost                       float64\n",
       "Revised Cost                         float64\n",
       "Existing Use                          string\n",
       "Proposed Use                          string\n",
       "Existing Construction Type            string\n",
       "Proposed Construction Type            string\n",
       "dtype: object"
      ]
     },
     "execution_count": 26,
     "metadata": {},
     "output_type": "execute_result"
    }
   ],
   "source": [
    "df.dtypes"
   ]
  },
  {
   "cell_type": "code",
   "execution_count": 27,
   "id": "963f68b3",
   "metadata": {
    "scrolled": true
   },
   "outputs": [
    {
     "data": {
      "image/png": "[encoded data removed]",
      "text/plain": [
       "<Figure size 640x480 with 1 Axes>"
      ]
     },
     "metadata": {},
     "output_type": "display_data"
    },
    {
     "data": {
      "image/png": "[encoded data removed]",
      "text/plain": [
       "<Figure size 640x480 with 1 Axes>"
      ]
     },
     "metadata": {},
     "output_type": "display_data"
    },
    {
     "data": {
      "image/png": "[encoded data removed]",
      "text/plain": [
       "<Figure size 640x480 with 1 Axes>"
      ]
     },
     "metadata": {},
     "output_type": "display_data"
    },
    {
     "data": {
      "image/png": "[encoded data removed]",
      "text/plain": [
       "<Figure size 640x480 with 1 Axes>"
      ]
     },
     "metadata": {},
     "output_type": "display_data"
    }
   ],
   "source": [
    "for col in df.columns:\n",
    "    if (df[col].dtypes == 'float64'):\n",
    "        plt.figure()\n",
    "        sns.boxplot(df[col])"
   ]
  },
  {
   "cell_type": "code",
   "execution_count": 28,
   "id": "57714951",
   "metadata": {},
   "outputs": [],
   "source": [
    "#remove outliers\n",
    "def remove_outliers(df,col):\n",
    "    q1 = df[col].quantile(0.25);\n",
    "    q3 = df[col].quantile(0.75);\n",
    "    iqr = q3 - q1;\n",
    "    \n",
    "    max_ = q3 + (1.5*iqr);\n",
    "    min_ = q1 - (1.5*iqr);\n",
    "    \n",
    "    df.loc[df[col] < min_,col] = min_;\n",
    "    df.loc[df[col] > max_,col] = max_;"
   ]
  },
  {
   "cell_type": "code",
   "execution_count": 29,
   "id": "782cf855",
   "metadata": {},
   "outputs": [],
   "source": [
    "for col in df.columns:\n",
    "    if (df[col].dtypes == 'float64'):\n",
    "        remove_outliers(df,col)"
   ]
  },
  {
   "cell_type": "code",
   "execution_count": 30,
   "id": "aaa7a53d",
   "metadata": {
    "scrolled": true
   },
   "outputs": [
    {
     "data": {
      "image/png": "[encoded data removed]",
      "text/plain": [
       "<Figure size 640x480 with 1 Axes>"
      ]
     },
     "metadata": {},
     "output_type": "display_data"
    },
    {
     "data": {
      "image/png": "[encoded data removed]",
      "text/plain": [
       "<Figure size 640x480 with 1 Axes>"
      ]
     },
     "metadata": {},
     "output_type": "display_data"
    },
    {
     "data": {
      "image/png": "[encoded data removed]",
      "text/plain": [
       "<Figure size 640x480 with 1 Axes>"
      ]
     },
     "metadata": {},
     "output_type": "display_data"
    },
    {
     "data": {
      "image/png": "[encoded data removed]",
      "text/plain": [
       "<Figure size 640x480 with 1 Axes>"
      ]
     },
     "metadata": {},
     "output_type": "display_data"
    }
   ],
   "source": [
    "for col in df.columns:\n",
    "    if (df[col].dtypes == 'float64'):\n",
    "        plt.figure()\n",
    "        sns.boxplot(df[col])"
   ]
  },
  {
   "cell_type": "code",
   "execution_count": 31,
   "id": "ad6b8fce",
   "metadata": {},
   "outputs": [
    {
     "data": {
      "text/html": [
       "<div>\n",
       "<style scoped>\n",
       "    .dataframe tbody tr th:only-of-type {\n",
       "        vertical-align: middle;\n",
       "    }\n",
       "\n",
       "    .dataframe tbody tr th {\n",
       "        vertical-align: top;\n",
       "    }\n",
       "\n",
       "    .dataframe thead th {\n",
       "        text-align: right;\n",
       "    }\n",
       "</style>\n",
       "<table border=\"1\" class=\"dataframe\">\n",
       "  <thead>\n",
       "    <tr style=\"text-align: right;\">\n",
       "      <th></th>\n",
       "      <th>Permit Type</th>\n",
       "      <th>Permit Type Definition</th>\n",
       "      <th>Permit Creation Date</th>\n",
       "      <th>Block</th>\n",
       "      <th>Lot</th>\n",
       "      <th>Street Name</th>\n",
       "      <th>Current Status</th>\n",
       "      <th>Current Status Date</th>\n",
       "      <th>Filed Date</th>\n",
       "      <th>Issued Date</th>\n",
       "      <th>Completed Date</th>\n",
       "      <th>Number of Existing Stories</th>\n",
       "      <th>Number of Proposed Stories</th>\n",
       "      <th>Permit Expiration Date</th>\n",
       "      <th>Estimated Cost</th>\n",
       "      <th>Revised Cost</th>\n",
       "      <th>Existing Use</th>\n",
       "      <th>Proposed Use</th>\n",
       "      <th>Existing Construction Type</th>\n",
       "      <th>Proposed Construction Type</th>\n",
       "    </tr>\n",
       "  </thead>\n",
       "  <tbody>\n",
       "    <tr>\n",
       "      <th>0</th>\n",
       "      <td>4</td>\n",
       "      <td>sign - erect</td>\n",
       "      <td>2015-05-06</td>\n",
       "      <td>0326</td>\n",
       "      <td>023</td>\n",
       "      <td>Ellis</td>\n",
       "      <td>expired</td>\n",
       "      <td>2017-12-21</td>\n",
       "      <td>2015-05-06</td>\n",
       "      <td>2015-11-09</td>\n",
       "      <td>2017-07-24</td>\n",
       "      <td>6.0</td>\n",
       "      <td>6.0</td>\n",
       "      <td>2016-11-03</td>\n",
       "      <td>4000.0</td>\n",
       "      <td>4000.0</td>\n",
       "      <td>tourist hotel/motel</td>\n",
       "      <td>N/A</td>\n",
       "      <td>3.0</td>\n",
       "      <td>N/A</td>\n",
       "    </tr>\n",
       "    <tr>\n",
       "      <th>1</th>\n",
       "      <td>4</td>\n",
       "      <td>sign - erect</td>\n",
       "      <td>2016-04-19</td>\n",
       "      <td>0306</td>\n",
       "      <td>007</td>\n",
       "      <td>Geary</td>\n",
       "      <td>issued</td>\n",
       "      <td>2017-08-03</td>\n",
       "      <td>2016-04-19</td>\n",
       "      <td>2017-08-03</td>\n",
       "      <td>2017-07-24</td>\n",
       "      <td>7.0</td>\n",
       "      <td>6.0</td>\n",
       "      <td>2017-12-03</td>\n",
       "      <td>1.0</td>\n",
       "      <td>500.0</td>\n",
       "      <td>tourist hotel/motel</td>\n",
       "      <td>N/A</td>\n",
       "      <td>3.0</td>\n",
       "      <td>N/A</td>\n",
       "    </tr>\n",
       "    <tr>\n",
       "      <th>2</th>\n",
       "      <td>3</td>\n",
       "      <td>additions alterations or repairs</td>\n",
       "      <td>2016-05-27</td>\n",
       "      <td>0595</td>\n",
       "      <td>203</td>\n",
       "      <td>Pacific</td>\n",
       "      <td>withdrawn</td>\n",
       "      <td>2017-09-26</td>\n",
       "      <td>2016-05-27</td>\n",
       "      <td>2017-08-03</td>\n",
       "      <td>2017-07-24</td>\n",
       "      <td>6.0</td>\n",
       "      <td>6.0</td>\n",
       "      <td>2017-12-03</td>\n",
       "      <td>20000.0</td>\n",
       "      <td>7406.0</td>\n",
       "      <td>retail sales</td>\n",
       "      <td>retail sales</td>\n",
       "      <td>1.0</td>\n",
       "      <td>1.0</td>\n",
       "    </tr>\n",
       "    <tr>\n",
       "      <th>3</th>\n",
       "      <td>8</td>\n",
       "      <td>otc alterations permit</td>\n",
       "      <td>2016-11-07</td>\n",
       "      <td>0156</td>\n",
       "      <td>011</td>\n",
       "      <td>Pacific</td>\n",
       "      <td>complete</td>\n",
       "      <td>2017-07-24</td>\n",
       "      <td>2016-11-07</td>\n",
       "      <td>2017-07-18</td>\n",
       "      <td>2017-07-24</td>\n",
       "      <td>2.0</td>\n",
       "      <td>2.0</td>\n",
       "      <td>2018-07-13</td>\n",
       "      <td>2000.0</td>\n",
       "      <td>2000.0</td>\n",
       "      <td>1 family dwelling</td>\n",
       "      <td>1 family dwelling</td>\n",
       "      <td>5.0</td>\n",
       "      <td>5.0</td>\n",
       "    </tr>\n",
       "    <tr>\n",
       "      <th>4</th>\n",
       "      <td>6</td>\n",
       "      <td>demolitions</td>\n",
       "      <td>2016-11-28</td>\n",
       "      <td>0342</td>\n",
       "      <td>001</td>\n",
       "      <td>Market</td>\n",
       "      <td>issued</td>\n",
       "      <td>2017-12-01</td>\n",
       "      <td>2016-11-28</td>\n",
       "      <td>2017-12-01</td>\n",
       "      <td>2017-07-12</td>\n",
       "      <td>3.0</td>\n",
       "      <td>5.0</td>\n",
       "      <td>2018-12-01</td>\n",
       "      <td>55000.0</td>\n",
       "      <td>64998.5</td>\n",
       "      <td>retail sales</td>\n",
       "      <td>N/A</td>\n",
       "      <td>3.0</td>\n",
       "      <td>N/A</td>\n",
       "    </tr>\n",
       "    <tr>\n",
       "      <th>5</th>\n",
       "      <td>8</td>\n",
       "      <td>otc alterations permit</td>\n",
       "      <td>2017-06-14</td>\n",
       "      <td>4105</td>\n",
       "      <td>009</td>\n",
       "      <td>Indiana</td>\n",
       "      <td>issued</td>\n",
       "      <td>2017-07-06</td>\n",
       "      <td>2017-06-14</td>\n",
       "      <td>2017-07-06</td>\n",
       "      <td>2017-07-12</td>\n",
       "      <td>5.0</td>\n",
       "      <td>5.0</td>\n",
       "      <td>2018-07-01</td>\n",
       "      <td>4000.0</td>\n",
       "      <td>4000.0</td>\n",
       "      <td>apartments</td>\n",
       "      <td>apartments</td>\n",
       "      <td>1.0</td>\n",
       "      <td>1.0</td>\n",
       "    </tr>\n",
       "    <tr>\n",
       "      <th>6</th>\n",
       "      <td>8</td>\n",
       "      <td>otc alterations permit</td>\n",
       "      <td>2017-06-30</td>\n",
       "      <td>1739</td>\n",
       "      <td>020</td>\n",
       "      <td>11th</td>\n",
       "      <td>complete</td>\n",
       "      <td>2017-07-12</td>\n",
       "      <td>2017-06-30</td>\n",
       "      <td>2017-06-30</td>\n",
       "      <td>2017-07-12</td>\n",
       "      <td>3.0</td>\n",
       "      <td>3.0</td>\n",
       "      <td>2018-06-25</td>\n",
       "      <td>12000.0</td>\n",
       "      <td>12000.0</td>\n",
       "      <td>apartments</td>\n",
       "      <td>apartments</td>\n",
       "      <td>5.0</td>\n",
       "      <td>5.0</td>\n",
       "    </tr>\n",
       "    <tr>\n",
       "      <th>7</th>\n",
       "      <td>8</td>\n",
       "      <td>otc alterations permit</td>\n",
       "      <td>2017-06-30</td>\n",
       "      <td>4789</td>\n",
       "      <td>014</td>\n",
       "      <td>Revere</td>\n",
       "      <td>issued</td>\n",
       "      <td>2017-06-30</td>\n",
       "      <td>2017-06-30</td>\n",
       "      <td>2017-06-30</td>\n",
       "      <td>2017-10-31</td>\n",
       "      <td>3.0</td>\n",
       "      <td>2.0</td>\n",
       "      <td>2018-06-25</td>\n",
       "      <td>11330.0</td>\n",
       "      <td>0.0</td>\n",
       "      <td>N/A</td>\n",
       "      <td>N/A</td>\n",
       "      <td>N/A</td>\n",
       "      <td>N/A</td>\n",
       "    </tr>\n",
       "    <tr>\n",
       "      <th>8</th>\n",
       "      <td>8</td>\n",
       "      <td>otc alterations permit</td>\n",
       "      <td>2017-07-05</td>\n",
       "      <td>1212</td>\n",
       "      <td>054</td>\n",
       "      <td>Fell</td>\n",
       "      <td>issued</td>\n",
       "      <td>2017-07-05</td>\n",
       "      <td>2017-07-05</td>\n",
       "      <td>2017-07-05</td>\n",
       "      <td>2017-10-31</td>\n",
       "      <td>3.0</td>\n",
       "      <td>2.0</td>\n",
       "      <td>2018-06-25</td>\n",
       "      <td>11330.0</td>\n",
       "      <td>1.0</td>\n",
       "      <td>N/A</td>\n",
       "      <td>N/A</td>\n",
       "      <td>N/A</td>\n",
       "      <td>N/A</td>\n",
       "    </tr>\n",
       "    <tr>\n",
       "      <th>9</th>\n",
       "      <td>8</td>\n",
       "      <td>otc alterations permit</td>\n",
       "      <td>2017-07-06</td>\n",
       "      <td>1259</td>\n",
       "      <td>016</td>\n",
       "      <td>Alpine</td>\n",
       "      <td>issued</td>\n",
       "      <td>2017-07-06</td>\n",
       "      <td>2017-07-06</td>\n",
       "      <td>2017-07-06</td>\n",
       "      <td>2017-10-31</td>\n",
       "      <td>3.0</td>\n",
       "      <td>2.0</td>\n",
       "      <td>2018-06-25</td>\n",
       "      <td>11330.0</td>\n",
       "      <td>0.0</td>\n",
       "      <td>N/A</td>\n",
       "      <td>N/A</td>\n",
       "      <td>N/A</td>\n",
       "      <td>N/A</td>\n",
       "    </tr>\n",
       "  </tbody>\n",
       "</table>\n",
       "</div>"
      ],
      "text/plain": [
       "   Permit Type            Permit Type Definition Permit Creation Date Block  \\\n",
       "0            4                      sign - erect           2015-05-06  0326   \n",
       "1            4                      sign - erect           2016-04-19  0306   \n",
       "2            3  additions alterations or repairs           2016-05-27  0595   \n",
       "3            8            otc alterations permit           2016-11-07  0156   \n",
       "4            6                       demolitions           2016-11-28  0342   \n",
       "5            8            otc alterations permit           2017-06-14  4105   \n",
       "6            8            otc alterations permit           2017-06-30  1739   \n",
       "7            8            otc alterations permit           2017-06-30  4789   \n",
       "8            8            otc alterations permit           2017-07-05  1212   \n",
       "9            8            otc alterations permit           2017-07-06  1259   \n",
       "\n",
       "   Lot Street Name Current Status Current Status Date Filed Date Issued Date  \\\n",
       "0  023       Ellis        expired          2017-12-21 2015-05-06  2015-11-09   \n",
       "1  007       Geary         issued          2017-08-03 2016-04-19  2017-08-03   \n",
       "2  203     Pacific      withdrawn          2017-09-26 2016-05-27  2017-08-03   \n",
       "3  011     Pacific       complete          2017-07-24 2016-11-07  2017-07-18   \n",
       "4  001      Market         issued          2017-12-01 2016-11-28  2017-12-01   \n",
       "5  009     Indiana         issued          2017-07-06 2017-06-14  2017-07-06   \n",
       "6  020        11th       complete          2017-07-12 2017-06-30  2017-06-30   \n",
       "7  014      Revere         issued          2017-06-30 2017-06-30  2017-06-30   \n",
       "8  054        Fell         issued          2017-07-05 2017-07-05  2017-07-05   \n",
       "9  016      Alpine         issued          2017-07-06 2017-07-06  2017-07-06   \n",
       "\n",
       "  Completed Date  Number of Existing Stories  Number of Proposed Stories  \\\n",
       "0     2017-07-24                         6.0                         6.0   \n",
       "1     2017-07-24                         7.0                         6.0   \n",
       "2     2017-07-24                         6.0                         6.0   \n",
       "3     2017-07-24                         2.0                         2.0   \n",
       "4     2017-07-12                         3.0                         5.0   \n",
       "5     2017-07-12                         5.0                         5.0   \n",
       "6     2017-07-12                         3.0                         3.0   \n",
       "7     2017-10-31                         3.0                         2.0   \n",
       "8     2017-10-31                         3.0                         2.0   \n",
       "9     2017-10-31                         3.0                         2.0   \n",
       "\n",
       "  Permit Expiration Date  Estimated Cost  Revised Cost         Existing Use  \\\n",
       "0             2016-11-03          4000.0        4000.0  tourist hotel/motel   \n",
       "1             2017-12-03             1.0         500.0  tourist hotel/motel   \n",
       "2             2017-12-03         20000.0        7406.0         retail sales   \n",
       "3             2018-07-13          2000.0        2000.0    1 family dwelling   \n",
       "4             2018-12-01         55000.0       64998.5         retail sales   \n",
       "5             2018-07-01          4000.0        4000.0           apartments   \n",
       "6             2018-06-25         12000.0       12000.0           apartments   \n",
       "7             2018-06-25         11330.0           0.0                  N/A   \n",
       "8             2018-06-25         11330.0           1.0                  N/A   \n",
       "9             2018-06-25         11330.0           0.0                  N/A   \n",
       "\n",
       "        Proposed Use Existing Construction Type Proposed Construction Type  \n",
       "0                N/A                        3.0                        N/A  \n",
       "1                N/A                        3.0                        N/A  \n",
       "2       retail sales                        1.0                        1.0  \n",
       "3  1 family dwelling                        5.0                        5.0  \n",
       "4                N/A                        3.0                        N/A  \n",
       "5         apartments                        1.0                        1.0  \n",
       "6         apartments                        5.0                        5.0  \n",
       "7                N/A                        N/A                        N/A  \n",
       "8                N/A                        N/A                        N/A  \n",
       "9                N/A                        N/A                        N/A  "
      ]
     },
     "execution_count": 31,
     "metadata": {},
     "output_type": "execute_result"
    }
   ],
   "source": [
    "df.head(10)"
   ]
  },
  {
   "cell_type": "code",
   "execution_count": 32,
   "id": "52e441cf",
   "metadata": {},
   "outputs": [],
   "source": [
    "from sklearn.preprocessing import MinMaxScaler;"
   ]
  },
  {
   "cell_type": "code",
   "execution_count": 33,
   "id": "cec79c02",
   "metadata": {},
   "outputs": [],
   "source": [
    "scaler = MinMaxScaler()\n",
    "df_new = df.copy()"
   ]
  },
  {
   "cell_type": "code",
   "execution_count": 34,
   "id": "c51d16db",
   "metadata": {},
   "outputs": [
    {
     "ename": "ValueError",
     "evalue": "could not convert string to float: 'sign - erect'",
     "output_type": "error",
     "traceback": [
      "\u001b[1;31m---------------------------------------------------------------------------\u001b[0m",
      "\u001b[1;31mValueError\u001b[0m                                Traceback (most recent call last)",
      "\u001b[1;32m~\\AppData\\Local\\Temp\\ipykernel_1008\\737670028.py\u001b[0m in \u001b[0;36m<module>\u001b[1;34m\u001b[0m\n\u001b[0;32m      1\u001b[0m \u001b[1;32mfor\u001b[0m \u001b[0mcol\u001b[0m \u001b[1;32min\u001b[0m \u001b[0mdf\u001b[0m\u001b[1;33m.\u001b[0m\u001b[0mcolumns\u001b[0m\u001b[1;33m:\u001b[0m\u001b[1;33m\u001b[0m\u001b[1;33m\u001b[0m\u001b[0m\n\u001b[0;32m      2\u001b[0m     \u001b[1;32mif\u001b[0m \u001b[1;33m(\u001b[0m\u001b[0mcol\u001b[0m \u001b[1;33m!=\u001b[0m \u001b[1;34m'Current Status'\u001b[0m\u001b[1;33m)\u001b[0m\u001b[1;33m:\u001b[0m\u001b[1;33m\u001b[0m\u001b[1;33m\u001b[0m\u001b[0m\n\u001b[1;32m----> 3\u001b[1;33m         \u001b[0mdf_new\u001b[0m\u001b[1;33m[\u001b[0m\u001b[0mcol\u001b[0m\u001b[1;33m]\u001b[0m \u001b[1;33m=\u001b[0m \u001b[0mscaler\u001b[0m\u001b[1;33m.\u001b[0m\u001b[0mfit_transform\u001b[0m\u001b[1;33m(\u001b[0m\u001b[0mdf_new\u001b[0m\u001b[1;33m[\u001b[0m\u001b[0mcol\u001b[0m\u001b[1;33m]\u001b[0m\u001b[1;33m.\u001b[0m\u001b[0mvalues\u001b[0m\u001b[1;33m.\u001b[0m\u001b[0mreshape\u001b[0m\u001b[1;33m(\u001b[0m\u001b[1;33m-\u001b[0m\u001b[1;36m1\u001b[0m\u001b[1;33m,\u001b[0m\u001b[1;36m1\u001b[0m\u001b[1;33m)\u001b[0m\u001b[1;33m)\u001b[0m\u001b[1;33m\u001b[0m\u001b[1;33m\u001b[0m\u001b[0m\n\u001b[0m",
      "\u001b[1;32mC:\\ProgramData\\Anaconda3\\lib\\site-packages\\sklearn\\base.py\u001b[0m in \u001b[0;36mfit_transform\u001b[1;34m(self, X, y, **fit_params)\u001b[0m\n\u001b[0;32m    850\u001b[0m         \u001b[1;32mif\u001b[0m \u001b[0my\u001b[0m \u001b[1;32mis\u001b[0m \u001b[1;32mNone\u001b[0m\u001b[1;33m:\u001b[0m\u001b[1;33m\u001b[0m\u001b[1;33m\u001b[0m\u001b[0m\n\u001b[0;32m    851\u001b[0m             \u001b[1;31m# fit method of arity 1 (unsupervised transformation)\u001b[0m\u001b[1;33m\u001b[0m\u001b[1;33m\u001b[0m\u001b[0m\n\u001b[1;32m--> 852\u001b[1;33m             \u001b[1;32mreturn\u001b[0m \u001b[0mself\u001b[0m\u001b[1;33m.\u001b[0m\u001b[0mfit\u001b[0m\u001b[1;33m(\u001b[0m\u001b[0mX\u001b[0m\u001b[1;33m,\u001b[0m \u001b[1;33m**\u001b[0m\u001b[0mfit_params\u001b[0m\u001b[1;33m)\u001b[0m\u001b[1;33m.\u001b[0m\u001b[0mtransform\u001b[0m\u001b[1;33m(\u001b[0m\u001b[0mX\u001b[0m\u001b[1;33m)\u001b[0m\u001b[1;33m\u001b[0m\u001b[1;33m\u001b[0m\u001b[0m\n\u001b[0m\u001b[0;32m    853\u001b[0m         \u001b[1;32melse\u001b[0m\u001b[1;33m:\u001b[0m\u001b[1;33m\u001b[0m\u001b[1;33m\u001b[0m\u001b[0m\n\u001b[0;32m    854\u001b[0m             \u001b[1;31m# fit method of arity 2 (supervised transformation)\u001b[0m\u001b[1;33m\u001b[0m\u001b[1;33m\u001b[0m\u001b[0m\n",
      "\u001b[1;32mC:\\ProgramData\\Anaconda3\\lib\\site-packages\\sklearn\\preprocessing\\_data.py\u001b[0m in \u001b[0;36mfit\u001b[1;34m(self, X, y)\u001b[0m\n\u001b[0;32m    414\u001b[0m         \u001b[1;31m# Reset internal state before fitting\u001b[0m\u001b[1;33m\u001b[0m\u001b[1;33m\u001b[0m\u001b[0m\n\u001b[0;32m    415\u001b[0m         \u001b[0mself\u001b[0m\u001b[1;33m.\u001b[0m\u001b[0m_reset\u001b[0m\u001b[1;33m(\u001b[0m\u001b[1;33m)\u001b[0m\u001b[1;33m\u001b[0m\u001b[1;33m\u001b[0m\u001b[0m\n\u001b[1;32m--> 416\u001b[1;33m         \u001b[1;32mreturn\u001b[0m \u001b[0mself\u001b[0m\u001b[1;33m.\u001b[0m\u001b[0mpartial_fit\u001b[0m\u001b[1;33m(\u001b[0m\u001b[0mX\u001b[0m\u001b[1;33m,\u001b[0m \u001b[0my\u001b[0m\u001b[1;33m)\u001b[0m\u001b[1;33m\u001b[0m\u001b[1;33m\u001b[0m\u001b[0m\n\u001b[0m\u001b[0;32m    417\u001b[0m \u001b[1;33m\u001b[0m\u001b[0m\n\u001b[0;32m    418\u001b[0m     \u001b[1;32mdef\u001b[0m \u001b[0mpartial_fit\u001b[0m\u001b[1;33m(\u001b[0m\u001b[0mself\u001b[0m\u001b[1;33m,\u001b[0m \u001b[0mX\u001b[0m\u001b[1;33m,\u001b[0m \u001b[0my\u001b[0m\u001b[1;33m=\u001b[0m\u001b[1;32mNone\u001b[0m\u001b[1;33m)\u001b[0m\u001b[1;33m:\u001b[0m\u001b[1;33m\u001b[0m\u001b[1;33m\u001b[0m\u001b[0m\n",
      "\u001b[1;32mC:\\ProgramData\\Anaconda3\\lib\\site-packages\\sklearn\\preprocessing\\_data.py\u001b[0m in \u001b[0;36mpartial_fit\u001b[1;34m(self, X, y)\u001b[0m\n\u001b[0;32m    451\u001b[0m \u001b[1;33m\u001b[0m\u001b[0m\n\u001b[0;32m    452\u001b[0m         \u001b[0mfirst_pass\u001b[0m \u001b[1;33m=\u001b[0m \u001b[1;32mnot\u001b[0m \u001b[0mhasattr\u001b[0m\u001b[1;33m(\u001b[0m\u001b[0mself\u001b[0m\u001b[1;33m,\u001b[0m \u001b[1;34m\"n_samples_seen_\"\u001b[0m\u001b[1;33m)\u001b[0m\u001b[1;33m\u001b[0m\u001b[1;33m\u001b[0m\u001b[0m\n\u001b[1;32m--> 453\u001b[1;33m         X = self._validate_data(\n\u001b[0m\u001b[0;32m    454\u001b[0m             \u001b[0mX\u001b[0m\u001b[1;33m,\u001b[0m\u001b[1;33m\u001b[0m\u001b[1;33m\u001b[0m\u001b[0m\n\u001b[0;32m    455\u001b[0m             \u001b[0mreset\u001b[0m\u001b[1;33m=\u001b[0m\u001b[0mfirst_pass\u001b[0m\u001b[1;33m,\u001b[0m\u001b[1;33m\u001b[0m\u001b[1;33m\u001b[0m\u001b[0m\n",
      "\u001b[1;32mC:\\ProgramData\\Anaconda3\\lib\\site-packages\\sklearn\\base.py\u001b[0m in \u001b[0;36m_validate_data\u001b[1;34m(self, X, y, reset, validate_separately, **check_params)\u001b[0m\n\u001b[0;32m    564\u001b[0m             \u001b[1;32mraise\u001b[0m \u001b[0mValueError\u001b[0m\u001b[1;33m(\u001b[0m\u001b[1;34m\"Validation should be done on X, y or both.\"\u001b[0m\u001b[1;33m)\u001b[0m\u001b[1;33m\u001b[0m\u001b[1;33m\u001b[0m\u001b[0m\n\u001b[0;32m    565\u001b[0m         \u001b[1;32melif\u001b[0m \u001b[1;32mnot\u001b[0m \u001b[0mno_val_X\u001b[0m \u001b[1;32mand\u001b[0m \u001b[0mno_val_y\u001b[0m\u001b[1;33m:\u001b[0m\u001b[1;33m\u001b[0m\u001b[1;33m\u001b[0m\u001b[0m\n\u001b[1;32m--> 566\u001b[1;33m             \u001b[0mX\u001b[0m \u001b[1;33m=\u001b[0m \u001b[0mcheck_array\u001b[0m\u001b[1;33m(\u001b[0m\u001b[0mX\u001b[0m\u001b[1;33m,\u001b[0m \u001b[1;33m**\u001b[0m\u001b[0mcheck_params\u001b[0m\u001b[1;33m)\u001b[0m\u001b[1;33m\u001b[0m\u001b[1;33m\u001b[0m\u001b[0m\n\u001b[0m\u001b[0;32m    567\u001b[0m             \u001b[0mout\u001b[0m \u001b[1;33m=\u001b[0m \u001b[0mX\u001b[0m\u001b[1;33m\u001b[0m\u001b[1;33m\u001b[0m\u001b[0m\n\u001b[0;32m    568\u001b[0m         \u001b[1;32melif\u001b[0m \u001b[0mno_val_X\u001b[0m \u001b[1;32mand\u001b[0m \u001b[1;32mnot\u001b[0m \u001b[0mno_val_y\u001b[0m\u001b[1;33m:\u001b[0m\u001b[1;33m\u001b[0m\u001b[1;33m\u001b[0m\u001b[0m\n",
      "\u001b[1;32mC:\\ProgramData\\Anaconda3\\lib\\site-packages\\sklearn\\utils\\validation.py\u001b[0m in \u001b[0;36mcheck_array\u001b[1;34m(array, accept_sparse, accept_large_sparse, dtype, order, copy, force_all_finite, ensure_2d, allow_nd, ensure_min_samples, ensure_min_features, estimator)\u001b[0m\n\u001b[0;32m    744\u001b[0m                     \u001b[0marray\u001b[0m \u001b[1;33m=\u001b[0m \u001b[0marray\u001b[0m\u001b[1;33m.\u001b[0m\u001b[0mastype\u001b[0m\u001b[1;33m(\u001b[0m\u001b[0mdtype\u001b[0m\u001b[1;33m,\u001b[0m \u001b[0mcasting\u001b[0m\u001b[1;33m=\u001b[0m\u001b[1;34m\"unsafe\"\u001b[0m\u001b[1;33m,\u001b[0m \u001b[0mcopy\u001b[0m\u001b[1;33m=\u001b[0m\u001b[1;32mFalse\u001b[0m\u001b[1;33m)\u001b[0m\u001b[1;33m\u001b[0m\u001b[1;33m\u001b[0m\u001b[0m\n\u001b[0;32m    745\u001b[0m                 \u001b[1;32melse\u001b[0m\u001b[1;33m:\u001b[0m\u001b[1;33m\u001b[0m\u001b[1;33m\u001b[0m\u001b[0m\n\u001b[1;32m--> 746\u001b[1;33m                     \u001b[0marray\u001b[0m \u001b[1;33m=\u001b[0m \u001b[0mnp\u001b[0m\u001b[1;33m.\u001b[0m\u001b[0masarray\u001b[0m\u001b[1;33m(\u001b[0m\u001b[0marray\u001b[0m\u001b[1;33m,\u001b[0m \u001b[0morder\u001b[0m\u001b[1;33m=\u001b[0m\u001b[0morder\u001b[0m\u001b[1;33m,\u001b[0m \u001b[0mdtype\u001b[0m\u001b[1;33m=\u001b[0m\u001b[0mdtype\u001b[0m\u001b[1;33m)\u001b[0m\u001b[1;33m\u001b[0m\u001b[1;33m\u001b[0m\u001b[0m\n\u001b[0m\u001b[0;32m    747\u001b[0m             \u001b[1;32mexcept\u001b[0m \u001b[0mComplexWarning\u001b[0m \u001b[1;32mas\u001b[0m \u001b[0mcomplex_warning\u001b[0m\u001b[1;33m:\u001b[0m\u001b[1;33m\u001b[0m\u001b[1;33m\u001b[0m\u001b[0m\n\u001b[0;32m    748\u001b[0m                 raise ValueError(\n",
      "\u001b[1;32mC:\\ProgramData\\Anaconda3\\lib\\site-packages\\pandas\\core\\arrays\\numpy_.py\u001b[0m in \u001b[0;36m__array__\u001b[1;34m(self, dtype)\u001b[0m\n\u001b[0;32m    127\u001b[0m \u001b[1;33m\u001b[0m\u001b[0m\n\u001b[0;32m    128\u001b[0m     \u001b[1;32mdef\u001b[0m \u001b[0m__array__\u001b[0m\u001b[1;33m(\u001b[0m\u001b[0mself\u001b[0m\u001b[1;33m,\u001b[0m \u001b[0mdtype\u001b[0m\u001b[1;33m:\u001b[0m \u001b[0mNpDtype\u001b[0m \u001b[1;33m|\u001b[0m \u001b[1;32mNone\u001b[0m \u001b[1;33m=\u001b[0m \u001b[1;32mNone\u001b[0m\u001b[1;33m)\u001b[0m \u001b[1;33m->\u001b[0m \u001b[0mnp\u001b[0m\u001b[1;33m.\u001b[0m\u001b[0mndarray\u001b[0m\u001b[1;33m:\u001b[0m\u001b[1;33m\u001b[0m\u001b[1;33m\u001b[0m\u001b[0m\n\u001b[1;32m--> 129\u001b[1;33m         \u001b[1;32mreturn\u001b[0m \u001b[0mnp\u001b[0m\u001b[1;33m.\u001b[0m\u001b[0masarray\u001b[0m\u001b[1;33m(\u001b[0m\u001b[0mself\u001b[0m\u001b[1;33m.\u001b[0m\u001b[0m_ndarray\u001b[0m\u001b[1;33m,\u001b[0m \u001b[0mdtype\u001b[0m\u001b[1;33m=\u001b[0m\u001b[0mdtype\u001b[0m\u001b[1;33m)\u001b[0m\u001b[1;33m\u001b[0m\u001b[1;33m\u001b[0m\u001b[0m\n\u001b[0m\u001b[0;32m    130\u001b[0m \u001b[1;33m\u001b[0m\u001b[0m\n\u001b[0;32m    131\u001b[0m     \u001b[1;32mdef\u001b[0m \u001b[0m__array_ufunc__\u001b[0m\u001b[1;33m(\u001b[0m\u001b[0mself\u001b[0m\u001b[1;33m,\u001b[0m \u001b[0mufunc\u001b[0m\u001b[1;33m:\u001b[0m \u001b[0mnp\u001b[0m\u001b[1;33m.\u001b[0m\u001b[0mufunc\u001b[0m\u001b[1;33m,\u001b[0m \u001b[0mmethod\u001b[0m\u001b[1;33m:\u001b[0m \u001b[0mstr\u001b[0m\u001b[1;33m,\u001b[0m \u001b[1;33m*\u001b[0m\u001b[0minputs\u001b[0m\u001b[1;33m,\u001b[0m \u001b[1;33m**\u001b[0m\u001b[0mkwargs\u001b[0m\u001b[1;33m)\u001b[0m\u001b[1;33m:\u001b[0m\u001b[1;33m\u001b[0m\u001b[1;33m\u001b[0m\u001b[0m\n",
      "\u001b[1;31mValueError\u001b[0m: could not convert string to float: 'sign - erect'"
     ]
    }
   ],
   "source": [
    "for col in df.columns:\n",
    "    if (col != 'Current Status'):\n",
    "        df_new[col] = scaler.fit_transform(df_new[col].values.reshape(-1,1))"
   ]
  },
  {
   "cell_type": "code",
   "execution_count": null,
   "id": "8b37f49a",
   "metadata": {},
   "outputs": [],
   "source": []
  },
  {
   "cell_type": "code",
   "execution_count": null,
   "id": "b01e5cfd",
   "metadata": {},
   "outputs": [],
   "source": []
  },
  {
   "cell_type": "code",
   "execution_count": null,
   "id": "2b4ecf1d",
   "metadata": {},
   "outputs": [],
   "source": []
  }
 ],
 "metadata": {
  "kernelspec": {
   "display_name": "Python 3 (ipykernel)",
   "language": "python",
   "name": "python3"
  },
  "language_info": {
   "codemirror_mode": {
    "name": "ipython",
    "version": 3
   },
   "file_extension": ".py",
   "mimetype": "text/x-python",
   "name": "python",
   "nbconvert_exporter": "python",
   "pygments_lexer": "ipython3",
   "version": "3.9.13"
  }
 },
 "nbformat": 4,
 "nbformat_minor": 5
}
