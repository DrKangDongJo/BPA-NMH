{
 "cells": [
  {
   "cell_type": "code",
   "execution_count": 1,
   "id": "5b53ada9",
   "metadata": {},
   "outputs": [],
   "source": [
    "import numpy as np;\n",
    "import pandas as pd;\n",
    "import seaborn as sns;\n",
    "import matplotlib.pyplot as plt;\n",
    "\n",
    "import warnings\n",
    "warnings.filterwarnings('ignore')"
   ]
  },
  {
   "cell_type": "code",
   "execution_count": 2,
   "id": "f448ec99",
   "metadata": {},
   "outputs": [],
   "source": [
    "df = pd.read_csv('Building_Permits.csv', low_memory=False);"
   ]
  },
  {
   "cell_type": "code",
   "execution_count": 3,
   "id": "1c0845e2",
   "metadata": {
    "scrolled": true
   },
   "outputs": [
    {
     "data": {
      "text/html": [
       "<div>\n",
       "<style scoped>\n",
       "    .dataframe tbody tr th:only-of-type {\n",
       "        vertical-align: middle;\n",
       "    }\n",
       "\n",
       "    .dataframe tbody tr th {\n",
       "        vertical-align: top;\n",
       "    }\n",
       "\n",
       "    .dataframe thead th {\n",
       "        text-align: right;\n",
       "    }\n",
       "</style>\n",
       "<table border=\"1\" class=\"dataframe\">\n",
       "  <thead>\n",
       "    <tr style=\"text-align: right;\">\n",
       "      <th></th>\n",
       "      <th>Permit Number</th>\n",
       "      <th>Permit Type</th>\n",
       "      <th>Permit Type Definition</th>\n",
       "      <th>Permit Creation Date</th>\n",
       "      <th>Block</th>\n",
       "      <th>Lot</th>\n",
       "      <th>Street Number</th>\n",
       "      <th>Street Number Suffix</th>\n",
       "      <th>Street Name</th>\n",
       "      <th>Street Suffix</th>\n",
       "      <th>...</th>\n",
       "      <th>Existing Construction Type</th>\n",
       "      <th>Existing Construction Type Description</th>\n",
       "      <th>Proposed Construction Type</th>\n",
       "      <th>Proposed Construction Type Description</th>\n",
       "      <th>Site Permit</th>\n",
       "      <th>Supervisor District</th>\n",
       "      <th>Neighborhoods - Analysis Boundaries</th>\n",
       "      <th>Zipcode</th>\n",
       "      <th>Location</th>\n",
       "      <th>Record ID</th>\n",
       "    </tr>\n",
       "  </thead>\n",
       "  <tbody>\n",
       "    <tr>\n",
       "      <th>0</th>\n",
       "      <td>201505065519</td>\n",
       "      <td>4</td>\n",
       "      <td>sign - erect</td>\n",
       "      <td>05/06/2015</td>\n",
       "      <td>0326</td>\n",
       "      <td>023</td>\n",
       "      <td>140</td>\n",
       "      <td>NaN</td>\n",
       "      <td>Ellis</td>\n",
       "      <td>St</td>\n",
       "      <td>...</td>\n",
       "      <td>3.0</td>\n",
       "      <td>constr type 3</td>\n",
       "      <td>NaN</td>\n",
       "      <td>NaN</td>\n",
       "      <td>NaN</td>\n",
       "      <td>3.0</td>\n",
       "      <td>Tenderloin</td>\n",
       "      <td>94102.0</td>\n",
       "      <td>(37.785719256680785, -122.40852313194863)</td>\n",
       "      <td>1380611233945</td>\n",
       "    </tr>\n",
       "    <tr>\n",
       "      <th>1</th>\n",
       "      <td>201604195146</td>\n",
       "      <td>4</td>\n",
       "      <td>sign - erect</td>\n",
       "      <td>04/19/2016</td>\n",
       "      <td>0306</td>\n",
       "      <td>007</td>\n",
       "      <td>440</td>\n",
       "      <td>NaN</td>\n",
       "      <td>Geary</td>\n",
       "      <td>St</td>\n",
       "      <td>...</td>\n",
       "      <td>3.0</td>\n",
       "      <td>constr type 3</td>\n",
       "      <td>NaN</td>\n",
       "      <td>NaN</td>\n",
       "      <td>NaN</td>\n",
       "      <td>3.0</td>\n",
       "      <td>Tenderloin</td>\n",
       "      <td>94102.0</td>\n",
       "      <td>(37.78733980600732, -122.41063199757738)</td>\n",
       "      <td>1420164406718</td>\n",
       "    </tr>\n",
       "    <tr>\n",
       "      <th>2</th>\n",
       "      <td>201605278609</td>\n",
       "      <td>3</td>\n",
       "      <td>additions alterations or repairs</td>\n",
       "      <td>05/27/2016</td>\n",
       "      <td>0595</td>\n",
       "      <td>203</td>\n",
       "      <td>1647</td>\n",
       "      <td>NaN</td>\n",
       "      <td>Pacific</td>\n",
       "      <td>Av</td>\n",
       "      <td>...</td>\n",
       "      <td>1.0</td>\n",
       "      <td>constr type 1</td>\n",
       "      <td>1.0</td>\n",
       "      <td>constr type 1</td>\n",
       "      <td>NaN</td>\n",
       "      <td>3.0</td>\n",
       "      <td>Russian Hill</td>\n",
       "      <td>94109.0</td>\n",
       "      <td>(37.7946573324287, -122.42232562979227)</td>\n",
       "      <td>1424856504716</td>\n",
       "    </tr>\n",
       "    <tr>\n",
       "      <th>3</th>\n",
       "      <td>201611072166</td>\n",
       "      <td>8</td>\n",
       "      <td>otc alterations permit</td>\n",
       "      <td>11/07/2016</td>\n",
       "      <td>0156</td>\n",
       "      <td>011</td>\n",
       "      <td>1230</td>\n",
       "      <td>NaN</td>\n",
       "      <td>Pacific</td>\n",
       "      <td>Av</td>\n",
       "      <td>...</td>\n",
       "      <td>5.0</td>\n",
       "      <td>wood frame (5)</td>\n",
       "      <td>5.0</td>\n",
       "      <td>wood frame (5)</td>\n",
       "      <td>NaN</td>\n",
       "      <td>3.0</td>\n",
       "      <td>Nob Hill</td>\n",
       "      <td>94109.0</td>\n",
       "      <td>(37.79595867909168, -122.41557405519474)</td>\n",
       "      <td>1443574295566</td>\n",
       "    </tr>\n",
       "    <tr>\n",
       "      <th>4</th>\n",
       "      <td>201611283529</td>\n",
       "      <td>6</td>\n",
       "      <td>demolitions</td>\n",
       "      <td>11/28/2016</td>\n",
       "      <td>0342</td>\n",
       "      <td>001</td>\n",
       "      <td>950</td>\n",
       "      <td>NaN</td>\n",
       "      <td>Market</td>\n",
       "      <td>St</td>\n",
       "      <td>...</td>\n",
       "      <td>3.0</td>\n",
       "      <td>constr type 3</td>\n",
       "      <td>NaN</td>\n",
       "      <td>NaN</td>\n",
       "      <td>NaN</td>\n",
       "      <td>6.0</td>\n",
       "      <td>Tenderloin</td>\n",
       "      <td>94102.0</td>\n",
       "      <td>(37.78315261897309, -122.40950883997789)</td>\n",
       "      <td>144548169992</td>\n",
       "    </tr>\n",
       "    <tr>\n",
       "      <th>5</th>\n",
       "      <td>201706149344</td>\n",
       "      <td>8</td>\n",
       "      <td>otc alterations permit</td>\n",
       "      <td>06/14/2017</td>\n",
       "      <td>4105</td>\n",
       "      <td>009</td>\n",
       "      <td>800</td>\n",
       "      <td>NaN</td>\n",
       "      <td>Indiana</td>\n",
       "      <td>St</td>\n",
       "      <td>...</td>\n",
       "      <td>1.0</td>\n",
       "      <td>constr type 1</td>\n",
       "      <td>1.0</td>\n",
       "      <td>constr type 1</td>\n",
       "      <td>NaN</td>\n",
       "      <td>10.0</td>\n",
       "      <td>Potrero Hill</td>\n",
       "      <td>94107.0</td>\n",
       "      <td>(37.75922331346539, -122.39170402628598)</td>\n",
       "      <td>1466911170855</td>\n",
       "    </tr>\n",
       "  </tbody>\n",
       "</table>\n",
       "<p>6 rows × 43 columns</p>\n",
       "</div>"
      ],
      "text/plain": [
       "  Permit Number  Permit Type            Permit Type Definition  \\\n",
       "0  201505065519            4                      sign - erect   \n",
       "1  201604195146            4                      sign - erect   \n",
       "2  201605278609            3  additions alterations or repairs   \n",
       "3  201611072166            8            otc alterations permit   \n",
       "4  201611283529            6                       demolitions   \n",
       "5  201706149344            8            otc alterations permit   \n",
       "\n",
       "  Permit Creation Date Block  Lot  Street Number Street Number Suffix  \\\n",
       "0           05/06/2015  0326  023            140                  NaN   \n",
       "1           04/19/2016  0306  007            440                  NaN   \n",
       "2           05/27/2016  0595  203           1647                  NaN   \n",
       "3           11/07/2016  0156  011           1230                  NaN   \n",
       "4           11/28/2016  0342  001            950                  NaN   \n",
       "5           06/14/2017  4105  009            800                  NaN   \n",
       "\n",
       "  Street Name Street Suffix  ...  Existing Construction Type  \\\n",
       "0       Ellis            St  ...                         3.0   \n",
       "1       Geary            St  ...                         3.0   \n",
       "2     Pacific            Av  ...                         1.0   \n",
       "3     Pacific            Av  ...                         5.0   \n",
       "4      Market            St  ...                         3.0   \n",
       "5     Indiana            St  ...                         1.0   \n",
       "\n",
       "  Existing Construction Type Description Proposed Construction Type  \\\n",
       "0                          constr type 3                        NaN   \n",
       "1                          constr type 3                        NaN   \n",
       "2                          constr type 1                        1.0   \n",
       "3                         wood frame (5)                        5.0   \n",
       "4                          constr type 3                        NaN   \n",
       "5                          constr type 1                        1.0   \n",
       "\n",
       "  Proposed Construction Type Description Site Permit Supervisor District  \\\n",
       "0                                    NaN         NaN                 3.0   \n",
       "1                                    NaN         NaN                 3.0   \n",
       "2                          constr type 1         NaN                 3.0   \n",
       "3                         wood frame (5)         NaN                 3.0   \n",
       "4                                    NaN         NaN                 6.0   \n",
       "5                          constr type 1         NaN                10.0   \n",
       "\n",
       "  Neighborhoods - Analysis Boundaries  Zipcode  \\\n",
       "0                          Tenderloin  94102.0   \n",
       "1                          Tenderloin  94102.0   \n",
       "2                        Russian Hill  94109.0   \n",
       "3                            Nob Hill  94109.0   \n",
       "4                          Tenderloin  94102.0   \n",
       "5                        Potrero Hill  94107.0   \n",
       "\n",
       "                                    Location      Record ID  \n",
       "0  (37.785719256680785, -122.40852313194863)  1380611233945  \n",
       "1   (37.78733980600732, -122.41063199757738)  1420164406718  \n",
       "2    (37.7946573324287, -122.42232562979227)  1424856504716  \n",
       "3   (37.79595867909168, -122.41557405519474)  1443574295566  \n",
       "4   (37.78315261897309, -122.40950883997789)   144548169992  \n",
       "5   (37.75922331346539, -122.39170402628598)  1466911170855  \n",
       "\n",
       "[6 rows x 43 columns]"
      ]
     },
     "execution_count": 3,
     "metadata": {},
     "output_type": "execute_result"
    }
   ],
   "source": [
    "df.head(6)"
   ]
  },
  {
   "cell_type": "code",
   "execution_count": 4,
   "id": "86c141da",
   "metadata": {},
   "outputs": [
    {
     "data": {
      "text/plain": [
       "(198900, 43)"
      ]
     },
     "execution_count": 4,
     "metadata": {},
     "output_type": "execute_result"
    }
   ],
   "source": [
    "df.shape"
   ]
  },
  {
   "cell_type": "code",
   "execution_count": 5,
   "id": "b0c5479a",
   "metadata": {},
   "outputs": [
    {
     "data": {
      "text/plain": [
       "Permit Number                                  0\n",
       "Permit Type                                    0\n",
       "Permit Type Definition                         0\n",
       "Permit Creation Date                           0\n",
       "Block                                          0\n",
       "Lot                                            0\n",
       "Street Number                                  0\n",
       "Street Number Suffix                      196684\n",
       "Street Name                                    0\n",
       "Street Suffix                               2768\n",
       "Unit                                      169421\n",
       "Unit Suffix                               196939\n",
       "Description                                  290\n",
       "Current Status                                 0\n",
       "Current Status Date                            0\n",
       "Filed Date                                     0\n",
       "Issued Date                                14940\n",
       "Completed Date                            101709\n",
       "First Construction Document Date           14946\n",
       "Structural Notification                   191978\n",
       "Number of Existing Stories                 42784\n",
       "Number of Proposed Stories                 42868\n",
       "Voluntary Soft-Story Retrofit             198865\n",
       "Fire Only Permit                          180073\n",
       "Permit Expiration Date                     51880\n",
       "Estimated Cost                             38066\n",
       "Revised Cost                                6066\n",
       "Existing Use                               41114\n",
       "Existing Units                             51538\n",
       "Proposed Use                               42439\n",
       "Proposed Units                             50911\n",
       "Plansets                                   37309\n",
       "TIDF Compliance                           198898\n",
       "Existing Construction Type                 43366\n",
       "Existing Construction Type Description     43366\n",
       "Proposed Construction Type                 43162\n",
       "Proposed Construction Type Description     43162\n",
       "Site Permit                               193541\n",
       "Supervisor District                         1717\n",
       "Neighborhoods - Analysis Boundaries         1725\n",
       "Zipcode                                     1716\n",
       "Location                                    1700\n",
       "Record ID                                      0\n",
       "dtype: int64"
      ]
     },
     "execution_count": 5,
     "metadata": {},
     "output_type": "execute_result"
    }
   ],
   "source": [
    "df.isna().sum()"
   ]
  },
  {
   "cell_type": "code",
   "execution_count": 50,
   "id": "cf3368b3",
   "metadata": {},
   "outputs": [
    {
     "data": {
      "text/plain": [
       "array([      nan, 0.000e+00, 3.010e+02, 1.000e+00, 2.010e+02, 1.007e+03,\n",
       "       4.010e+02, 5.100e+02, 7.260e+02, 3.412e+03, 1.400e+01, 1.020e+02,\n",
       "       2.090e+02, 3.070e+02, 5.010e+02, 3.700e+01, 1.900e+01, 2.000e+00,\n",
       "       2.200e+01, 1.010e+02, 2.900e+01, 2.900e+03, 2.470e+02, 4.190e+02,\n",
       "       1.202e+03, 1.006e+03, 2.300e+01, 4.000e+00, 2.700e+01, 5.030e+02,\n",
       "       6.010e+02, 7.010e+02, 2.410e+02, 5.020e+02, 1.060e+02, 2.080e+02,\n",
       "       1.120e+02, 1.000e+01, 1.100e+01, 8.000e+00, 5.602e+03, 3.140e+02,\n",
       "       1.024e+03, 3.000e+00, 2.040e+02, 4.500e+01, 1.432e+03, 4.100e+02,\n",
       "       3.040e+02, 7.000e+00, 7.230e+02, 6.070e+02, 1.200e+01, 3.020e+02,\n",
       "       2.020e+02, 3.030e+02, 2.030e+02, 4.020e+02, 4.030e+02, 4.040e+02,\n",
       "       2.203e+03, 1.701e+03, 1.700e+01, 6.000e+00, 9.070e+02, 4.060e+02,\n",
       "       1.608e+03, 1.605e+03, 1.030e+02, 1.201e+03, 6.020e+02, 2.110e+02,\n",
       "       2.500e+01, 5.000e+00, 1.106e+03, 1.602e+03, 1.600e+01, 9.000e+00,\n",
       "       3.060e+02, 1.002e+03, 3.390e+02, 9.020e+02, 3.450e+02, 2.103e+03,\n",
       "       4.900e+01, 3.800e+01, 1.040e+02, 1.050e+02, 3.320e+02, 1.124e+03,\n",
       "       1.070e+02, 8.070e+02, 1.090e+02, 3.170e+02, 5.300e+01, 5.060e+02,\n",
       "       1.108e+03, 1.606e+03, 1.415e+03, 2.100e+02, 8.120e+02, 4.400e+01,\n",
       "       3.510e+02, 2.202e+03, 2.402e+03, 3.220e+02, 4.000e+01, 7.030e+02,\n",
       "       1.601e+03, 1.604e+03, 2.100e+01, 2.800e+01, 5.160e+02, 1.104e+03,\n",
       "       1.233e+03, 7.250e+02, 3.090e+02, 1.032e+03, 3.050e+02, 2.050e+02,\n",
       "       3.100e+01, 2.070e+02, 4.070e+02, 2.060e+02, 4.120e+02, 5.040e+02,\n",
       "       8.060e+02, 1.003e+03, 3.600e+02, 4.600e+01, 8.010e+02, 7.020e+02,\n",
       "       1.690e+02, 4.800e+01, 7.050e+02, 1.502e+03, 7.370e+02, 1.402e+03,\n",
       "       1.401e+03, 8.220e+02, 4.050e+02, 2.230e+02, 1.370e+02, 1.409e+03,\n",
       "       1.501e+03, 6.250e+02, 2.101e+03, 2.360e+02, 1.717e+03, 1.805e+03,\n",
       "       1.050e+03, 1.404e+03, 5.170e+02, 3.560e+02, 2.160e+02, 1.420e+02,\n",
       "       1.500e+03, 3.100e+02, 3.600e+01, 1.300e+01, 2.150e+02, 2.800e+02,\n",
       "       6.510e+02, 1.180e+02, 3.704e+03, 3.200e+01, 8.020e+02, 1.403e+03,\n",
       "       1.290e+02, 3.110e+02, 4.110e+02, 1.208e+03, 4.700e+01, 1.120e+03,\n",
       "       1.632e+03, 2.200e+02, 4.500e+02, 9.010e+02, 6.080e+02, 6.060e+02,\n",
       "       6.040e+02, 3.120e+02, 3.300e+01, 7.200e+02, 1.901e+03, 3.000e+01,\n",
       "       3.350e+02, 4.660e+02, 2.201e+03, 1.103e+03, 4.240e+02, 4.100e+01,\n",
       "       1.203e+03, 5.600e+01, 5.050e+02, 1.170e+02, 4.150e+02, 1.603e+03,\n",
       "       5.090e+02, 1.230e+02, 1.110e+02, 1.000e+02, 3.400e+01, 8.400e+01,\n",
       "       6.190e+02, 7.040e+02, 4.140e+02, 1.220e+02, 3.000e+02, 5.190e+02,\n",
       "       1.500e+01, 9.000e+02, 1.043e+03, 1.300e+02, 2.400e+01, 2.600e+01,\n",
       "       3.510e+03, 6.220e+02, 1.303e+03, 1.304e+03, 1.022e+03, 6.150e+02,\n",
       "       1.800e+01, 8.080e+02, 7.210e+02, 1.009e+03, 2.001e+03, 7.000e+02,\n",
       "       1.543e+03, 1.312e+03, 1.005e+03, 1.301e+03, 3.580e+02, 3.080e+02,\n",
       "       5.400e+01, 1.411e+03, 2.130e+02, 5.080e+02, 7.140e+02, 2.000e+01,\n",
       "       6.260e+02, 2.300e+03, 8.100e+01, 5.480e+02, 5.150e+02, 9.050e+02,\n",
       "       2.190e+02, 1.260e+02, 2.872e+03, 2.888e+03, 2.000e+02, 3.005e+03,\n",
       "       4.080e+02, 3.101e+03, 2.904e+03, 4.230e+02, 2.700e+03, 1.408e+03,\n",
       "       6.230e+02, 2.501e+03, 4.090e+02, 6.180e+02, 8.050e+02, 6.310e+02,\n",
       "       1.406e+03, 1.101e+03, 1.410e+02, 4.130e+02, 9.220e+02, 1.025e+03,\n",
       "       5.604e+03, 1.418e+03, 4.180e+02, 4.310e+02, 2.109e+03, 1.001e+03,\n",
       "       7.200e+01, 4.113e+03, 5.000e+01, 1.109e+03, 3.360e+02, 1.115e+03,\n",
       "       6.030e+02, 3.260e+02, 2.240e+02, 1.047e+03, 8.090e+02, 1.080e+02,\n",
       "       4.300e+01, 2.250e+02, 4.001e+03, 2.270e+02, 6.100e+01, 2.031e+03,\n",
       "       9.140e+02, 4.200e+01, 1.211e+03, 4.540e+02, 1.310e+03, 1.270e+02,\n",
       "       4.620e+02, 2.530e+02, 1.806e+03, 7.320e+02, 3.801e+03, 1.112e+03,\n",
       "       5.310e+02, 8.040e+02, 7.070e+02, 7.100e+02, 8.240e+02, 5.180e+02,\n",
       "       1.130e+02, 6.090e+02, 7.060e+02, 6.200e+01, 2.220e+02, 1.100e+02,\n",
       "       1.014e+03, 1.207e+03, 1.902e+03, 8.300e+02, 4.260e+02, 1.703e+03,\n",
       "       2.604e+03, 9.080e+02, 2.570e+02, 1.431e+03, 5.120e+02, 3.830e+02,\n",
       "       7.090e+02, 2.070e+03, 1.160e+02, 6.470e+02, 3.200e+02, 2.725e+03,\n",
       "       2.526e+03, 2.180e+02, 4.220e+02, 1.114e+03, 1.026e+03, 2.140e+02,\n",
       "       8.460e+02, 1.305e+03, 9.390e+02, 1.105e+03, 5.700e+01, 8.170e+02,\n",
       "       3.230e+02, 3.160e+02, 2.034e+03, 4.730e+02, 2.005e+03, 6.160e+02,\n",
       "       5.520e+02, 3.254e+03, 4.510e+02, 1.505e+03, 8.100e+02, 6.130e+02,\n",
       "       9.180e+02, 4.460e+02, 6.290e+02, 4.410e+02, 5.550e+02, 3.401e+03,\n",
       "       2.370e+02, 5.000e+02, 2.390e+02, 2.207e+03, 1.504e+03, 6.700e+01,\n",
       "       3.640e+02, 9.210e+02, 9.040e+02, 2.120e+02, 9.300e+02, 5.130e+02,\n",
       "       1.790e+03, 1.796e+03, 2.500e+02, 1.302e+03, 3.210e+02, 1.414e+03,\n",
       "       9.030e+02, 9.650e+02, 1.250e+02, 2.221e+03, 2.223e+03, 3.861e+03,\n",
       "       3.240e+02, 7.080e+02, 3.150e+02, 3.180e+02, 7.900e+01, 2.166e+03,\n",
       "       6.000e+01, 1.210e+03, 5.220e+02, 4.004e+03, 1.004e+03, 5.340e+02,\n",
       "       1.011e+03, 7.600e+01, 2.003e+03, 1.508e+03, 2.704e+03, 3.330e+02,\n",
       "       3.370e+02, 6.140e+02, 6.120e+02, 5.700e+02, 3.900e+01, 1.317e+03,\n",
       "       3.130e+02, 8.000e+02, 1.167e+03, 9.060e+02, 1.407e+03, 4.480e+02,\n",
       "       9.420e+02, 1.700e+03, 1.904e+03, 6.110e+02, 7.150e+02, 3.190e+02,\n",
       "       1.150e+02, 3.250e+02, 2.204e+03, 3.103e+03, 4.380e+02, 7.000e+01,\n",
       "       4.340e+02, 1.480e+02, 2.610e+02, 2.210e+02, 3.290e+02, 1.150e+03,\n",
       "       1.152e+03, 1.200e+02, 7.170e+02, 4.570e+02, 1.016e+03, 1.704e+03,\n",
       "       4.320e+02, 2.290e+02, 3.500e+01, 7.500e+01, 8.230e+02, 9.470e+02,\n",
       "       5.070e+02, 5.560e+02, 1.135e+03, 7.130e+02, 8.030e+02, 1.214e+03,\n",
       "       2.502e+03, 1.116e+03, 1.802e+03, 6.560e+02, 4.000e+02, 7.240e+02,\n",
       "       5.306e+03, 5.106e+03, 5.206e+03, 4.706e+03, 1.607e+03, 5.270e+02,\n",
       "       3.256e+03, 1.801e+03, 2.601e+03, 7.120e+02, 6.210e+02, 5.500e+01,\n",
       "       7.400e+01, 3.460e+02, 5.210e+02, 4.360e+02, 1.059e+03, 2.340e+02,\n",
       "       1.503e+03, 2.214e+03, 2.102e+03, 3.680e+02, 5.370e+02, 3.903e+03,\n",
       "       3.705e+03, 2.905e+03, 8.420e+02, 8.160e+02, 3.540e+02, 5.350e+02,\n",
       "       1.516e+03, 6.170e+02, 5.100e+01, 3.440e+02, 1.102e+03, 5.005e+03,\n",
       "       3.300e+02, 9.310e+02, 1.702e+03, 4.300e+02, 9.200e+02, 3.202e+03,\n",
       "       7.110e+02, 1.570e+02, 6.000e+02, 5.580e+02, 6.360e+02, 6.100e+02,\n",
       "       7.160e+02, 1.110e+03, 1.140e+03, 4.006e+03, 8.320e+02, 5.900e+01,\n",
       "       3.270e+02, 7.800e+01, 6.003e+03, 1.204e+03, 2.401e+03, 9.120e+02,\n",
       "       3.004e+03, 1.015e+03, 5.590e+02, 4.720e+02, 1.230e+03, 2.002e+03,\n",
       "       1.506e+03, 1.370e+03, 1.372e+03, 4.520e+02, 6.520e+02, 8.520e+02,\n",
       "       9.520e+02, 5.570e+02, 6.570e+02, 8.570e+02, 8.700e+01, 9.320e+02,\n",
       "       2.317e+03, 8.720e+02, 6.900e+01, 2.350e+02, 5.140e+02, 6.300e+02,\n",
       "       3.312e+03, 1.360e+02, 1.380e+02, 6.050e+02, 2.280e+02, 1.249e+03,\n",
       "       1.251e+03, 1.253e+03, 1.424e+03, 1.107e+03, 1.412e+03, 1.221e+03,\n",
       "       3.280e+02, 4.270e+02, 6.500e+02, 1.000e+03, 2.192e+03, 4.280e+02,\n",
       "       9.900e+01, 1.613e+03, 4.901e+03, 8.750e+02, 1.520e+02, 1.500e+02,\n",
       "       2.773e+03, 5.903e+03, 9.090e+02, 1.450e+03, 2.801e+03, 2.170e+02,\n",
       "       2.301e+03, 1.308e+03, 1.307e+03, 1.309e+03, 8.400e+02, 2.803e+03,\n",
       "       5.530e+02, 9.110e+02, 7.520e+02, 7.570e+02, 9.570e+02, 1.540e+02,\n",
       "       7.690e+02, 1.212e+03, 2.404e+03, 4.690e+02, 2.534e+03, 1.514e+03,\n",
       "       2.805e+03, 4.110e+03, 4.310e+03, 4.210e+03, 4.410e+03, 6.490e+02,\n",
       "       4.170e+02, 4.600e+02, 1.800e+03, 1.808e+03, 1.132e+03, 3.201e+03,\n",
       "       1.510e+03, 5.200e+02, 5.204e+03, 1.618e+03, 2.303e+03, 5.330e+02,\n",
       "       7.360e+02, 4.160e+02, 2.650e+03, 1.530e+02, 8.180e+02, 1.206e+03,\n",
       "       1.517e+03, 1.519e+03, 1.441e+03, 3.446e+03, 1.511e+03, 9.160e+02,\n",
       "       1.609e+03, 9.000e+01, 6.004e+03, 6.340e+02, 5.440e+02, 2.140e+03,\n",
       "       1.792e+03, 1.190e+02, 4.200e+02, 2.400e+03, 1.580e+02, 5.112e+03,\n",
       "       5.212e+03, 5.113e+03, 5.213e+03, 5.312e+03, 5.313e+03, 5.412e+03,\n",
       "       5.413e+03, 5.110e+02, 5.103e+03, 4.409e+03, 4.109e+03, 4.209e+03,\n",
       "       4.309e+03, 1.131e+03, 1.140e+02, 9.100e+02, 3.105e+03, 8.590e+02,\n",
       "       1.610e+03, 6.400e+02, 1.240e+02, 5.230e+02, 1.449e+03, 2.260e+02,\n",
       "       6.800e+01])"
      ]
     },
     "execution_count": 50,
     "metadata": {},
     "output_type": "execute_result"
    }
   ],
   "source": [
    "df['Unit'].unique()"
   ]
  },
  {
   "cell_type": "code",
   "execution_count": 16,
   "id": "20b06c9f",
   "metadata": {},
   "outputs": [
    {
     "data": {
      "text/plain": [
       "array([nan, 'A', 'D', 'BLDG 1', 'C', 'B', 'E', 'FRONT', 'F', 'COMML',\n",
       "       'HOA', 'L', 'B20H', 'COMMERCIAL', \"RES'L\", 'UPPER', 'G', 'H',\n",
       "       \"RESID'L\", 'FRONT BLDG', 'RETAIL 1', 'RESIDL 3/F', 'P',\n",
       "       'OFFICE 2/F', 'BLDG E', 'BLDG D', 'BLDG C', 'BLDG B', 'BLDG A',\n",
       "       'PIER 3', 'PIER 2', 'PIER 1', 'J', 'PH-4', 'RESIDENCE', 'C132',\n",
       "       'REAR UNIT', 'FRONT UNIT', 'REAR', 'LOWER', 'PH2B', 'RESIDENTIA',\n",
       "       'W', 'REAR BLDG', 'PH', '#R-2', '1A-4', 'THEATRE', 'BLDG. 3',\n",
       "       'RESDL/REAR', 'T', 'N', 'UTILITY', 'BLDG 3', 'O', 'LOWER UNIT',\n",
       "       'FRNT RIGHT', 'MIDDLE', 'STORE', 'R', '1/F', '2/F', 'REAR G/F',\n",
       "       'BLDG 449', \"COM'L 1/F\", 'CU-3', 'PH-1', 'FRNT BLDG', 'K',\n",
       "       'LEAS OFFIC', 'COMML-3', 'S', 'M', 'PH1C', \"COM'L\", 'LEVEL 4',\n",
       "       'BLD 7', '1503B', 'BLDG 3F', 'TENTATIVE', 'C1', 'CHILD DEV',\n",
       "       'BASEMENT', '3/F', 'CU-2', 'C102', 'EAST', 'WEST', 'UPPER UNIT',\n",
       "       'Garage', '0', 'COMML-2', '-A', '-B', 'FRNT ENTRA', 'C-4', 'A102',\n",
       "       'BLDG 3E', '1ST FLOOR', 'COM-1', 'BSM OFFICE', 'PH1E', 'R-1',\n",
       "       'TH1', 'CML A', 'HMETER', 'LEVEL ONE', 'LEASE OFF', 'PH1A',\n",
       "       'BLDG 157', 'M202', 'PH1', 'C-1', 'TH2', 'C-2001', '3RD FLOOR',\n",
       "       'UPPER LEVE', '1/2', 'U', 'OFFICE', 'COML', 'Y', 'RETAIL 2',\n",
       "       '2ND FLOOR', 'C103', 'C100', 'M301', 'I', 'BLDG 201', 'UPPR COMML',\n",
       "       'A104', 'M101', 'A100', 'COMMON ARE', 'Commercial', 'COMML-1',\n",
       "       'B-A', 'LOWER COML', \"COMM'\", 'C-2', 'FC1', '1/F FRONT', 'BLDG 2',\n",
       "       'GPHA', 'PH C', 'C101', 'UP FRT BLD', 'D3', '407', 'BLDG 229',\n",
       "       'PARKING', 'COM-2', '3/F FRONT', 'TOP', 'Parcel A', 'Parcel D',\n",
       "       'Parcel B', 'Parcel C', 'COMML 1', 'D4', 'PARCEL A', 'M1',\n",
       "       'STUDIO/TEC', 'W122', 'U-PH3'], dtype=object)"
      ]
     },
     "execution_count": 16,
     "metadata": {},
     "output_type": "execute_result"
    }
   ],
   "source": [
    "df['Unit Suffix'].unique()"
   ]
  },
  {
   "cell_type": "code",
   "execution_count": 17,
   "id": "3a9ef580",
   "metadata": {},
   "outputs": [
    {
     "data": {
      "text/plain": [
       "array(['ground fl facade: to erect illuminated, electric, wall, single faced sign. n/a for maher ordinance 155-13.',\n",
       "       'remove (e) awning and associated signs.',\n",
       "       'installation of separating wall', ...,\n",
       "       'apt m2ph-1e: remove & replace kitchen adn bathroom counters tops, sinks, p-traps to be replaced, exh fan at same location. light shall be h.e. remove and replace (e) switches and outlets. no change on walls or layout.',\n",
       "       'bathtub & shower tile replacement.',\n",
       "       'fire alarm upgrade ref 201704123852'], dtype=object)"
      ]
     },
     "execution_count": 17,
     "metadata": {},
     "output_type": "execute_result"
    }
   ],
   "source": [
    "df['Description'].unique()"
   ]
  },
  {
   "cell_type": "code",
   "execution_count": 20,
   "id": "b7c9548f",
   "metadata": {},
   "outputs": [
    {
     "data": {
      "text/plain": [
       "array(['expired', 'issued', 'withdrawn', 'complete', 'filed', 'approved',\n",
       "       'reinstated', 'cancelled', 'appeal', 'suspend', 'revoked',\n",
       "       'plancheck', 'disapproved', 'incomplete'], dtype=object)"
      ]
     },
     "execution_count": 20,
     "metadata": {},
     "output_type": "execute_result"
    }
   ],
   "source": [
    "df['Current Status'].unique()"
   ]
  },
  {
   "cell_type": "code",
   "execution_count": 21,
   "id": "de064634",
   "metadata": {},
   "outputs": [
    {
     "data": {
      "text/plain": [
       "array(['12/21/2017', '08/03/2017', '09/26/2017', ..., '01/02/2018',\n",
       "       '07/15/2017', '07/29/2017'], dtype=object)"
      ]
     },
     "execution_count": 21,
     "metadata": {},
     "output_type": "execute_result"
    }
   ],
   "source": [
    "df['Current Status Date'].unique()"
   ]
  },
  {
   "cell_type": "code",
   "execution_count": 22,
   "id": "c80d09f6",
   "metadata": {},
   "outputs": [
    {
     "data": {
      "text/plain": [
       "array(['05/06/2015', '04/19/2016', '05/27/2016', ..., '02/21/2018',\n",
       "       '02/22/2018', '02/23/2018'], dtype=object)"
      ]
     },
     "execution_count": 22,
     "metadata": {},
     "output_type": "execute_result"
    }
   ],
   "source": [
    "df['Filed Date'].unique()"
   ]
  },
  {
   "cell_type": "code",
   "execution_count": 23,
   "id": "a7404617",
   "metadata": {},
   "outputs": [
    {
     "data": {
      "text/plain": [
       "array(['11/09/2015', '08/03/2017', nan, ..., '02/05/2018', '01/29/2018',\n",
       "       '02/13/2018'], dtype=object)"
      ]
     },
     "execution_count": 23,
     "metadata": {},
     "output_type": "execute_result"
    }
   ],
   "source": [
    "df['Issued Date'].unique()"
   ]
  },
  {
   "cell_type": "code",
   "execution_count": 24,
   "id": "ecee42fb",
   "metadata": {},
   "outputs": [
    {
     "data": {
      "text/plain": [
       "array([nan, '07/24/2017', '07/12/2017', ..., '11/02/2017', '12/26/2017',\n",
       "       '11/01/2017'], dtype=object)"
      ]
     },
     "execution_count": 24,
     "metadata": {},
     "output_type": "execute_result"
    }
   ],
   "source": [
    "df['Completed Date'].unique()"
   ]
  },
  {
   "cell_type": "code",
   "execution_count": 25,
   "id": "4ed28174",
   "metadata": {},
   "outputs": [
    {
     "data": {
      "text/plain": [
       "array([nan, 'Y'], dtype=object)"
      ]
     },
     "execution_count": 25,
     "metadata": {},
     "output_type": "execute_result"
    }
   ],
   "source": [
    "df['Structural Notification'].unique()"
   ]
  },
  {
   "cell_type": "code",
   "execution_count": 26,
   "id": "740751e4",
   "metadata": {},
   "outputs": [
    {
     "data": {
      "text/plain": [
       "array([ 6. ,  7. ,  2. ,  3. ,  5. ,  nan,  4. ,  1. , 15. , 23. , 11. ,\n",
       "       13. , 22. , 21. , 17. , 16. , 26. ,  8. ,  9. , 34. , 20. , 24. ,\n",
       "       48. , 25. , 19. , 12. , 14. , 30. , 53. , 52. , 18. , 37. , 38. ,\n",
       "       31. , 36. , 32. , 39. , 40. , 10. , 43. , 33. , 50. ,  0. , 55. ,\n",
       "       42. , 60. , 58. , 29. , 35. , 45. , 28. , 63. , 27. , 41. , 47. ,\n",
       "       46. , 61. , 44. , 49. , 54. , 78. ,  2.5,  1.5, 62. , 56. ])"
      ]
     },
     "execution_count": 26,
     "metadata": {},
     "output_type": "execute_result"
    }
   ],
   "source": [
    "df['Number of Existing Stories'].unique()"
   ]
  },
  {
   "cell_type": "code",
   "execution_count": 27,
   "id": "a0f79415",
   "metadata": {},
   "outputs": [
    {
     "data": {
      "text/plain": [
       "array(['tourist hotel/motel', 'retail sales', '1 family dwelling',\n",
       "       'apartments', nan, '2 family dwelling', 'church', 'storage shed',\n",
       "       'office', 'vacant lot', 'food/beverage hndlng',\n",
       "       'residential hotel', 'filling/service stn', 'workshop commercial',\n",
       "       'clinics-medic/dental', 'misc group residns.', 'hospital', 'club',\n",
       "       'barber/beauty salon', 'warehouse,no frnitur', 'school',\n",
       "       'artist live/work', 'manufacturing', 'garment shops',\n",
       "       'public assmbly other', 'auto repairs', 'lending institution',\n",
       "       'museum', 'warehouse, furniture', 'prkng garage/private',\n",
       "       'antenna', 'health studios & gym', 'massage parlor',\n",
       "       'printing plant', 'parking lot', 'workshop residential',\n",
       "       'power plant', 'tower', 'mortuary', 'animal sale or care',\n",
       "       'laundry/laundromat', 'nite club', 'paint store',\n",
       "       'recreation bldg', 'theater', 'prkng garage/public', 'sign',\n",
       "       'phone xchnge/equip', 'dance hall', 'sfpd or sffd station',\n",
       "       'storage tanks', 'muni carbarn', 'stadium', 'automobile sales',\n",
       "       'fence/retaining wall', 'radio & tv stations',\n",
       "       'social care facility', 'amusement center', 'day care home gt 12',\n",
       "       'moving & storage', 'dry cleaners', 'day care home 7 - 12',\n",
       "       'chemical processing', 'accessory cottage', 'day care, non-res',\n",
       "       'nursing home non amb', 'wholesale sales', 'library',\n",
       "       'nursery(floral)', 'day care center', 'nursing home gt 6',\n",
       "       'sewage plant', 'convalescent home', 'greenhouse',\n",
       "       'adult entertainment', 'muni driver restroom', 'sound studio',\n",
       "       'dairies/dairy equip.', 'christmas tree lot', 'bath house', 'jail',\n",
       "       \"prson'l svc tutor\", 'r-3(dwg) nursing', 'car wash',\n",
       "       'roofing materials', 'orphanage', 'ambulance service',\n",
       "       'meat/produce marts', 'building materials', 'temple',\n",
       "       'swimming pool', 'day care home lt 7', 'nursing home lte 6',\n",
       "       'child care'], dtype=object)"
      ]
     },
     "execution_count": 27,
     "metadata": {},
     "output_type": "execute_result"
    }
   ],
   "source": [
    "df['Existing Use'].unique()"
   ]
  },
  {
   "cell_type": "code",
   "execution_count": 29,
   "id": "d2a94bbf",
   "metadata": {},
   "outputs": [
    {
     "data": {
      "text/plain": [
       "array([nan, 'retail sales', '1 family dwelling', 'apartments',\n",
       "       '2 family dwelling', 'church', 'vacant lot', 'office',\n",
       "       'tourist hotel/motel', 'school', 'filling/service stn',\n",
       "       'food/beverage hndlng', 'residential hotel', 'storage shed',\n",
       "       'clinics-medic/dental', 'misc group residns.', 'club', 'hospital',\n",
       "       'barber/beauty salon', 'warehouse,no frnitur', 'artist live/work',\n",
       "       'museum', 'lending institution', 'garment shops', 'child care',\n",
       "       'auto repairs', 'manufacturing', 'day care home lt 7',\n",
       "       'workshop commercial', 'warehouse, furniture',\n",
       "       'prkng garage/private', 'antenna', 'health studios & gym',\n",
       "       'massage parlor', 'printing plant', 'parking lot',\n",
       "       'workshop residential', 'power plant', 'tower',\n",
       "       'sfpd or sffd station', 'mortuary', 'animal sale or care',\n",
       "       'fence/retaining wall', 'nite club', 'paint store',\n",
       "       'recreation bldg', 'theater', 'nursery(floral)',\n",
       "       'prkng garage/public', 'sign', 'phone xchnge/equip', 'dance hall',\n",
       "       'storage tanks', 'muni carbarn', 'automobile sales',\n",
       "       'day care center', 'public assmbly other', 'greenhouse', 'library',\n",
       "       'radio & tv stations', 'social care facility',\n",
       "       'laundry/laundromat', 'accessory cottage', 'amusement center',\n",
       "       'day care home gt 12', 'muni driver restroom',\n",
       "       'day care home 7 - 12', 'moving & storage', 'dry cleaners',\n",
       "       'chemical processing', 'day care, non-res', 'nursing home non amb',\n",
       "       'wholesale sales', 'stadium', 'bath house', 'nursing home gt 6',\n",
       "       'sewage plant', 'convalescent home', 'adult entertainment',\n",
       "       \"prson'l svc tutor\", 'dairies/dairy equip.', 'christmas tree lot',\n",
       "       'jail', 'r-3(dwg) nursing', 'sound studio', 'car wash',\n",
       "       'roofing materials', 'orphanage', 'swimming pool',\n",
       "       'ambulance service', 'not applicable', 'building materials',\n",
       "       'meat/produce marts', 'temple', 'nursing home lte 6'], dtype=object)"
      ]
     },
     "execution_count": 29,
     "metadata": {},
     "output_type": "execute_result"
    }
   ],
   "source": [
    "df['Proposed Use'].unique()"
   ]
  },
  {
   "cell_type": "code",
   "execution_count": 32,
   "id": "43bb8cf1",
   "metadata": {},
   "outputs": [
    {
     "data": {
      "text/plain": [
       "array([ 3.,  1.,  5., nan,  2.,  4.])"
      ]
     },
     "execution_count": 32,
     "metadata": {},
     "output_type": "execute_result"
    }
   ],
   "source": [
    "df['Existing Construction Type'].unique()"
   ]
  },
  {
   "cell_type": "code",
   "execution_count": 33,
   "id": "8d6ebda5",
   "metadata": {},
   "outputs": [
    {
     "data": {
      "text/plain": [
       "array(['constr type 3', 'constr type 1', 'wood frame (5)', nan,\n",
       "       'constr type 2', 'constr type 4'], dtype=object)"
      ]
     },
     "execution_count": 33,
     "metadata": {},
     "output_type": "execute_result"
    }
   ],
   "source": [
    "df['Existing Construction Type Description'].unique()"
   ]
  },
  {
   "cell_type": "code",
   "execution_count": 34,
   "id": "df4724d9",
   "metadata": {},
   "outputs": [
    {
     "data": {
      "text/plain": [
       "array([nan,  1.,  5.,  3.,  4.,  2.])"
      ]
     },
     "execution_count": 34,
     "metadata": {},
     "output_type": "execute_result"
    }
   ],
   "source": [
    "df['Proposed Construction Type'].unique()"
   ]
  },
  {
   "cell_type": "code",
   "execution_count": 35,
   "id": "f8cc1e98",
   "metadata": {},
   "outputs": [
    {
     "data": {
      "text/plain": [
       "array([nan, 'constr type 1', 'wood frame (5)', 'constr type 3',\n",
       "       'constr type 4', 'constr type 2'], dtype=object)"
      ]
     },
     "execution_count": 35,
     "metadata": {},
     "output_type": "execute_result"
    }
   ],
   "source": [
    "df['Proposed Construction Type Description'].unique()"
   ]
  },
  {
   "cell_type": "code",
   "execution_count": 36,
   "id": "f5826bd8",
   "metadata": {},
   "outputs": [
    {
     "data": {
      "text/plain": [
       "array([ 3.,  6., 10.,  5.,  8.,  2.,  9.,  4.,  1.,  7., 11., nan])"
      ]
     },
     "execution_count": 36,
     "metadata": {},
     "output_type": "execute_result"
    }
   ],
   "source": [
    "df['Supervisor District'].unique()"
   ]
  },
  {
   "cell_type": "code",
   "execution_count": 37,
   "id": "8c81d341",
   "metadata": {},
   "outputs": [
    {
     "data": {
      "text/plain": [
       "array(['Tenderloin', 'Russian Hill', 'Nob Hill', 'Potrero Hill',\n",
       "       'Inner Sunset', 'Bayview Hunters Point', 'Lone Mountain/USF',\n",
       "       'Haight Ashbury', 'Castro/Upper Market', 'Hayes Valley',\n",
       "       'Noe Valley', 'Pacific Heights', 'Chinatown',\n",
       "       'Financial District/South Beach', 'Marina', 'Mission',\n",
       "       'Sunset/Parkside', 'Outer Richmond', 'Western Addition',\n",
       "       'Bernal Heights', 'Inner Richmond', 'Oceanview/Merced/Ingleside',\n",
       "       'Outer Mission', 'Portola', 'Mission Bay', 'Visitacion Valley',\n",
       "       'Presidio Heights', 'West of Twin Peaks', 'South of Market',\n",
       "       'Excelsior', 'North Beach', 'Glen Park', 'Treasure Island',\n",
       "       'Twin Peaks', 'Lincoln Park', nan, 'Japantown', 'Lakeshore',\n",
       "       'Seacliff', 'Golden Gate Park', 'Presidio', 'McLaren Park'],\n",
       "      dtype=object)"
      ]
     },
     "execution_count": 37,
     "metadata": {},
     "output_type": "execute_result"
    }
   ],
   "source": [
    "df['Neighborhoods - Analysis Boundaries'].unique()"
   ]
  },
  {
   "cell_type": "code",
   "execution_count": 6,
   "id": "448dab38",
   "metadata": {},
   "outputs": [
    {
     "data": {
      "text/plain": [
       "0"
      ]
     },
     "execution_count": 6,
     "metadata": {},
     "output_type": "execute_result"
    }
   ],
   "source": [
    "df.duplicated().sum()"
   ]
  },
  {
   "cell_type": "code",
   "execution_count": 7,
   "id": "ff25e3ce",
   "metadata": {},
   "outputs": [
    {
     "data": {
      "text/plain": [
       "Permit Number                              object\n",
       "Permit Type                                 int64\n",
       "Permit Type Definition                     object\n",
       "Permit Creation Date                       object\n",
       "Block                                      object\n",
       "Lot                                        object\n",
       "Street Number                               int64\n",
       "Street Number Suffix                       object\n",
       "Street Name                                object\n",
       "Street Suffix                              object\n",
       "Unit                                      float64\n",
       "Unit Suffix                                object\n",
       "Description                                object\n",
       "Current Status                             object\n",
       "Current Status Date                        object\n",
       "Filed Date                                 object\n",
       "Issued Date                                object\n",
       "Completed Date                             object\n",
       "First Construction Document Date           object\n",
       "Structural Notification                    object\n",
       "Number of Existing Stories                float64\n",
       "Number of Proposed Stories                float64\n",
       "Voluntary Soft-Story Retrofit              object\n",
       "Fire Only Permit                           object\n",
       "Permit Expiration Date                     object\n",
       "Estimated Cost                            float64\n",
       "Revised Cost                              float64\n",
       "Existing Use                               object\n",
       "Existing Units                            float64\n",
       "Proposed Use                               object\n",
       "Proposed Units                            float64\n",
       "Plansets                                  float64\n",
       "TIDF Compliance                            object\n",
       "Existing Construction Type                float64\n",
       "Existing Construction Type Description     object\n",
       "Proposed Construction Type                float64\n",
       "Proposed Construction Type Description     object\n",
       "Site Permit                                object\n",
       "Supervisor District                       float64\n",
       "Neighborhoods - Analysis Boundaries        object\n",
       "Zipcode                                   float64\n",
       "Location                                   object\n",
       "Record ID                                   int64\n",
       "dtype: object"
      ]
     },
     "execution_count": 7,
     "metadata": {},
     "output_type": "execute_result"
    }
   ],
   "source": [
    "df.dtypes"
   ]
  },
  {
   "cell_type": "code",
   "execution_count": 40,
   "id": "1a0821ab",
   "metadata": {},
   "outputs": [],
   "source": [
    "df.drop(['Street Number', 'Street Number Suffix', 'Street Suffix', \n",
    "        'Unit Suffix', 'Description', 'First Construction Document Date', 'Structural Notification', \n",
    "         'Voluntary Soft-Story Retrofit', 'Fire Only Permit', 'Existing Units', 'Proposed Units', \n",
    "         'Plansets', 'TIDF Compliance', 'Existing Construction Type Description', 'Site Permit', 'Neighborhoods - Analysis Boundaries',\n",
    "         'Proposed Construction Type Description', 'Zipcode', 'Location', 'Record ID'], axis = 1, inplace=True)"
   ]
  },
  {
   "cell_type": "code",
   "execution_count": 51,
   "id": "a9114cea",
   "metadata": {},
   "outputs": [],
   "source": [
    "df.drop(['Unit'], axis = 1, inplace=True)"
   ]
  },
  {
   "cell_type": "code",
   "execution_count": 52,
   "id": "e49ce70e",
   "metadata": {},
   "outputs": [
    {
     "data": {
      "text/plain": [
       "1732"
      ]
     },
     "execution_count": 52,
     "metadata": {},
     "output_type": "execute_result"
    }
   ],
   "source": [
    "df.duplicated().sum()"
   ]
  },
  {
   "cell_type": "code",
   "execution_count": 53,
   "id": "66a44005",
   "metadata": {},
   "outputs": [],
   "source": [
    "df.drop_duplicates(inplace=True)"
   ]
  },
  {
   "cell_type": "code",
   "execution_count": 54,
   "id": "b6162822",
   "metadata": {},
   "outputs": [
    {
     "data": {
      "text/plain": [
       "(182372, 21)"
      ]
     },
     "execution_count": 54,
     "metadata": {},
     "output_type": "execute_result"
    }
   ],
   "source": [
    "df.shape"
   ]
  },
  {
   "cell_type": "code",
   "execution_count": 55,
   "id": "9b188ea8",
   "metadata": {},
   "outputs": [
    {
     "data": {
      "text/plain": [
       "Permit Type                       0\n",
       "Permit Type Definition            0\n",
       "Permit Creation Date              0\n",
       "Block                             0\n",
       "Lot                               0\n",
       "Street Name                       0\n",
       "Current Status                    0\n",
       "Current Status Date               0\n",
       "Filed Date                        0\n",
       "Issued Date                   13416\n",
       "Completed Date                93206\n",
       "Number of Existing Stories    39944\n",
       "Number of Proposed Stories    40017\n",
       "Permit Expiration Date        47998\n",
       "Estimated Cost                35667\n",
       "Revised Cost                   5347\n",
       "Existing Use                  38398\n",
       "Proposed Use                  39599\n",
       "Existing Construction Type    40492\n",
       "Proposed Construction Type    40295\n",
       "Supervisor District            1625\n",
       "dtype: int64"
      ]
     },
     "execution_count": 55,
     "metadata": {},
     "output_type": "execute_result"
    }
   ],
   "source": [
    "df.isna().sum()"
   ]
  },
  {
   "cell_type": "code",
   "execution_count": 56,
   "id": "66a49c7e",
   "metadata": {},
   "outputs": [],
   "source": [
    "df['Issued Date'] = df['Issued Date'].fillna(method='ffill');"
   ]
  },
  {
   "cell_type": "code",
   "execution_count": 57,
   "id": "f0ed0da9",
   "metadata": {},
   "outputs": [
    {
     "data": {
      "text/plain": [
       "array(['11/09/2015', '08/03/2017', '07/18/2017', ..., '02/05/2018',\n",
       "       '01/29/2018', '02/13/2018'], dtype=object)"
      ]
     },
     "execution_count": 57,
     "metadata": {},
     "output_type": "execute_result"
    }
   ],
   "source": [
    "df['Issued Date'].unique()"
   ]
  },
  {
   "cell_type": "code",
   "execution_count": 58,
   "id": "326fa1ed",
   "metadata": {},
   "outputs": [
    {
     "data": {
      "text/plain": [
       "Permit Type                       0\n",
       "Permit Type Definition            0\n",
       "Permit Creation Date              0\n",
       "Block                             0\n",
       "Lot                               0\n",
       "Street Name                       0\n",
       "Current Status                    0\n",
       "Current Status Date               0\n",
       "Filed Date                        0\n",
       "Issued Date                       0\n",
       "Completed Date                93206\n",
       "Number of Existing Stories    39944\n",
       "Number of Proposed Stories    40017\n",
       "Permit Expiration Date        47998\n",
       "Estimated Cost                35667\n",
       "Revised Cost                   5347\n",
       "Existing Use                  38398\n",
       "Proposed Use                  39599\n",
       "Existing Construction Type    40492\n",
       "Proposed Construction Type    40295\n",
       "Supervisor District            1625\n",
       "dtype: int64"
      ]
     },
     "execution_count": 58,
     "metadata": {},
     "output_type": "execute_result"
    }
   ],
   "source": [
    "df.isna().sum()"
   ]
  },
  {
   "cell_type": "code",
   "execution_count": null,
   "id": "38085461",
   "metadata": {},
   "outputs": [],
   "source": []
  }
 ],
 "metadata": {
  "kernelspec": {
   "display_name": "Python 3 (ipykernel)",
   "language": "python",
   "name": "python3"
  },
  "language_info": {
   "codemirror_mode": {
    "name": "ipython",
    "version": 3
   },
   "file_extension": ".py",
   "mimetype": "text/x-python",
   "name": "python",
   "nbconvert_exporter": "python",
   "pygments_lexer": "ipython3",
   "version": "3.9.13"
  }
 },
 "nbformat": 4,
 "nbformat_minor": 5
}
